{
 "cells": [
  {
   "cell_type": "markdown",
   "metadata": {},
   "source": [
    "In this analysis, we will focus on the previously selected 31 features. We will investigate the relationships among these features, use dimension-reduction techniques (e.g., PCA) to predict diabetes, and conduct t-test to compare diabetes rate between subgroups (e.g., metro vs. nonmetro counties). Specifically, we will analyze:\n",
    " - Coorelation heatmap among the features\n",
    " - PCA\n",
    " - t-test between metro and non-metrao counties\n",
    " - t-test between persistent poverty and non-poverty counties"
   ]
  },
  {
   "cell_type": "code",
   "execution_count": 1,
   "metadata": {},
   "outputs": [],
   "source": [
    "import pandas as pd\n",
    "import numpy as np\n",
    "import matplotlib.pyplot as plt\n",
    "import seaborn as sns\n",
    "\n",
    "from scipy import stats\n",
    "from scipy.stats import t\n",
    "from scipy.stats import norm\n",
    "#from pandas.plotting import scatter_matrix \n",
    "\n",
    "%matplotlib inline"
   ]
  },
  {
   "cell_type": "code",
   "execution_count": 2,
   "metadata": {},
   "outputs": [],
   "source": [
    "# Getting data\n",
    "# health = pd.read_excel(\"atlas.xlsx\", sheet_name= \"HEALTH\")\n",
    "# socio = pd.read_excel(\"atlas.xlsx\", sheet_name= \"SOCIOECONOMIC\")\n",
    "# access = pd.read_excel('atlas.xlsx', sheet_name=\"ACCESS\")\n",
    "# restaurants = pd.read_excel('atlas.xlsx', sheet_name='RESTAURANTS')\n",
    "# insecurity = pd.read_excel('atlas.xlsx', sheet_name='INSECURITY')\n",
    "# price = pd.read_excel('atlas.xlsx', sheet_name=\"PRICES_TAXES\")\n",
    "# local = pd.read_excel('atlas.xlsx', sheet_name=\"LOCAL\")\n",
    "\n",
    "# health = health.set_index('FIPS')\n",
    "# socio = socio.set_index('FIPS')\n",
    "# access = access.set_index('FIPS')\n",
    "# restaurants = restaurants.set_index('FIPS')\n",
    "# insecurity = insecurity.set_index('FIPS')\n",
    "# price = price.set_index('FIPS')\n",
    "# local = local.set_index('FIPS')\n"
   ]
  },
  {
   "cell_type": "code",
   "execution_count": 3,
   "metadata": {},
   "outputs": [],
   "source": [
    "# stores = pd.read_excel('atlas.xlsx', sheet_name=\"STORES\")\n",
    "# assistance = pd.read_excel('atlas.xlsx', sheet_name=\"ASSISTANCE\")\n",
    "# stores = stores.set_index('FIPS')\n",
    "# assistance = assistance.set_index('FIPS')"
   ]
  },
  {
   "cell_type": "code",
   "execution_count": 4,
   "metadata": {},
   "outputs": [],
   "source": [
    "# Concatenate data into one dataframe\n",
    "# df = pd.concat([health,socio,access,restaurants,insecurity, price,local,stores,assistance], axis=1)"
   ]
  },
  {
   "cell_type": "code",
   "execution_count": 5,
   "metadata": {},
   "outputs": [],
   "source": [
    "df = pd.read_csv('data_atlas/atlas.csv')"
   ]
  },
  {
   "cell_type": "code",
   "execution_count": 6,
   "metadata": {},
   "outputs": [
    {
     "data": {
      "text/plain": [
       "(3143, 280)"
      ]
     },
     "execution_count": 6,
     "metadata": {},
     "output_type": "execute_result"
    }
   ],
   "source": [
    "df.shape"
   ]
  },
  {
   "cell_type": "code",
   "execution_count": 7,
   "metadata": {},
   "outputs": [],
   "source": [
    "#df.to_csv('atlas.csv')"
   ]
  },
  {
   "cell_type": "code",
   "execution_count": 8,
   "metadata": {},
   "outputs": [
    {
     "data": {
      "text/html": [
       "<div>\n",
       "<style scoped>\n",
       "    .dataframe tbody tr th:only-of-type {\n",
       "        vertical-align: middle;\n",
       "    }\n",
       "\n",
       "    .dataframe tbody tr th {\n",
       "        vertical-align: top;\n",
       "    }\n",
       "\n",
       "    .dataframe thead th {\n",
       "        text-align: right;\n",
       "    }\n",
       "</style>\n",
       "<table border=\"1\" class=\"dataframe\">\n",
       "  <thead>\n",
       "    <tr style=\"text-align: right;\">\n",
       "      <th></th>\n",
       "      <th>FIPS</th>\n",
       "      <th>State</th>\n",
       "      <th>County</th>\n",
       "      <th>PCT_DIABETES_ADULTS08</th>\n",
       "      <th>PCT_DIABETES_ADULTS13</th>\n",
       "      <th>PCT_OBESE_ADULTS08</th>\n",
       "      <th>PCT_OBESE_ADULTS13</th>\n",
       "      <th>PCT_HSPA15</th>\n",
       "      <th>RECFAC09</th>\n",
       "      <th>RECFAC14</th>\n",
       "      <th>...</th>\n",
       "      <th>REDEMP_WICS08</th>\n",
       "      <th>REDEMP_WICS12</th>\n",
       "      <th>PCH_REDEMP_WICS_08_12</th>\n",
       "      <th>PCT_WIC09</th>\n",
       "      <th>PCT_WIC15</th>\n",
       "      <th>PCH_WIC_09_15</th>\n",
       "      <th>PCT_CACFP09</th>\n",
       "      <th>PCT_CACFP15</th>\n",
       "      <th>PCH_CACFP_09_15</th>\n",
       "      <th>FDPIR12</th>\n",
       "    </tr>\n",
       "  </thead>\n",
       "  <tbody>\n",
       "    <tr>\n",
       "      <th>0</th>\n",
       "      <td>1001</td>\n",
       "      <td>AL</td>\n",
       "      <td>Autauga</td>\n",
       "      <td>11.4</td>\n",
       "      <td>13.0</td>\n",
       "      <td>31.5</td>\n",
       "      <td>34.1</td>\n",
       "      <td>25.4</td>\n",
       "      <td>4</td>\n",
       "      <td>5</td>\n",
       "      <td>...</td>\n",
       "      <td>161658.70</td>\n",
       "      <td>184744.3</td>\n",
       "      <td>14.280490</td>\n",
       "      <td>2.990417</td>\n",
       "      <td>2.719352</td>\n",
       "      <td>-0.271065</td>\n",
       "      <td>0.91609</td>\n",
       "      <td>1.055597</td>\n",
       "      <td>0.139507</td>\n",
       "      <td>0</td>\n",
       "    </tr>\n",
       "    <tr>\n",
       "      <th>1</th>\n",
       "      <td>1003</td>\n",
       "      <td>AL</td>\n",
       "      <td>Baldwin</td>\n",
       "      <td>9.8</td>\n",
       "      <td>10.4</td>\n",
       "      <td>26.2</td>\n",
       "      <td>27.4</td>\n",
       "      <td>25.4</td>\n",
       "      <td>18</td>\n",
       "      <td>25</td>\n",
       "      <td>...</td>\n",
       "      <td>125840.50</td>\n",
       "      <td>126639.4</td>\n",
       "      <td>0.634881</td>\n",
       "      <td>2.990417</td>\n",
       "      <td>2.719352</td>\n",
       "      <td>-0.271065</td>\n",
       "      <td>0.91609</td>\n",
       "      <td>1.055597</td>\n",
       "      <td>0.139507</td>\n",
       "      <td>0</td>\n",
       "    </tr>\n",
       "    <tr>\n",
       "      <th>2</th>\n",
       "      <td>1005</td>\n",
       "      <td>AL</td>\n",
       "      <td>Barbour</td>\n",
       "      <td>13.6</td>\n",
       "      <td>18.4</td>\n",
       "      <td>37.6</td>\n",
       "      <td>44.4</td>\n",
       "      <td>25.4</td>\n",
       "      <td>1</td>\n",
       "      <td>0</td>\n",
       "      <td>...</td>\n",
       "      <td>178230.60</td>\n",
       "      <td>157077.1</td>\n",
       "      <td>-11.868620</td>\n",
       "      <td>2.990417</td>\n",
       "      <td>2.719352</td>\n",
       "      <td>-0.271065</td>\n",
       "      <td>0.91609</td>\n",
       "      <td>1.055597</td>\n",
       "      <td>0.139507</td>\n",
       "      <td>0</td>\n",
       "    </tr>\n",
       "    <tr>\n",
       "      <th>3</th>\n",
       "      <td>1007</td>\n",
       "      <td>AL</td>\n",
       "      <td>Bibb</td>\n",
       "      <td>11.1</td>\n",
       "      <td>14.8</td>\n",
       "      <td>32.3</td>\n",
       "      <td>40.3</td>\n",
       "      <td>25.4</td>\n",
       "      <td>1</td>\n",
       "      <td>1</td>\n",
       "      <td>...</td>\n",
       "      <td>92542.33</td>\n",
       "      <td>98263.4</td>\n",
       "      <td>6.182112</td>\n",
       "      <td>2.990417</td>\n",
       "      <td>2.719352</td>\n",
       "      <td>-0.271065</td>\n",
       "      <td>0.91609</td>\n",
       "      <td>1.055597</td>\n",
       "      <td>0.139507</td>\n",
       "      <td>0</td>\n",
       "    </tr>\n",
       "    <tr>\n",
       "      <th>4</th>\n",
       "      <td>1009</td>\n",
       "      <td>AL</td>\n",
       "      <td>Blount</td>\n",
       "      <td>11.4</td>\n",
       "      <td>14.1</td>\n",
       "      <td>31.9</td>\n",
       "      <td>34.6</td>\n",
       "      <td>25.4</td>\n",
       "      <td>3</td>\n",
       "      <td>3</td>\n",
       "      <td>...</td>\n",
       "      <td>102945.90</td>\n",
       "      <td>149110.0</td>\n",
       "      <td>44.843050</td>\n",
       "      <td>2.990417</td>\n",
       "      <td>2.719352</td>\n",
       "      <td>-0.271065</td>\n",
       "      <td>0.91609</td>\n",
       "      <td>1.055597</td>\n",
       "      <td>0.139507</td>\n",
       "      <td>0</td>\n",
       "    </tr>\n",
       "  </tbody>\n",
       "</table>\n",
       "<p>5 rows × 280 columns</p>\n",
       "</div>"
      ],
      "text/plain": [
       "   FIPS State   County  PCT_DIABETES_ADULTS08  PCT_DIABETES_ADULTS13  \\\n",
       "0  1001    AL  Autauga                   11.4                   13.0   \n",
       "1  1003    AL  Baldwin                    9.8                   10.4   \n",
       "2  1005    AL  Barbour                   13.6                   18.4   \n",
       "3  1007    AL     Bibb                   11.1                   14.8   \n",
       "4  1009    AL   Blount                   11.4                   14.1   \n",
       "\n",
       "   PCT_OBESE_ADULTS08  PCT_OBESE_ADULTS13  PCT_HSPA15  RECFAC09  RECFAC14  \\\n",
       "0                31.5                34.1        25.4         4         5   \n",
       "1                26.2                27.4        25.4        18        25   \n",
       "2                37.6                44.4        25.4         1         0   \n",
       "3                32.3                40.3        25.4         1         1   \n",
       "4                31.9                34.6        25.4         3         3   \n",
       "\n",
       "   ...  REDEMP_WICS08  REDEMP_WICS12  PCH_REDEMP_WICS_08_12  PCT_WIC09  \\\n",
       "0  ...      161658.70       184744.3              14.280490   2.990417   \n",
       "1  ...      125840.50       126639.4               0.634881   2.990417   \n",
       "2  ...      178230.60       157077.1             -11.868620   2.990417   \n",
       "3  ...       92542.33        98263.4               6.182112   2.990417   \n",
       "4  ...      102945.90       149110.0              44.843050   2.990417   \n",
       "\n",
       "   PCT_WIC15  PCH_WIC_09_15  PCT_CACFP09  PCT_CACFP15  PCH_CACFP_09_15  \\\n",
       "0   2.719352      -0.271065      0.91609     1.055597         0.139507   \n",
       "1   2.719352      -0.271065      0.91609     1.055597         0.139507   \n",
       "2   2.719352      -0.271065      0.91609     1.055597         0.139507   \n",
       "3   2.719352      -0.271065      0.91609     1.055597         0.139507   \n",
       "4   2.719352      -0.271065      0.91609     1.055597         0.139507   \n",
       "\n",
       "   FDPIR12  \n",
       "0        0  \n",
       "1        0  \n",
       "2        0  \n",
       "3        0  \n",
       "4        0  \n",
       "\n",
       "[5 rows x 280 columns]"
      ]
     },
     "execution_count": 8,
     "metadata": {},
     "output_type": "execute_result"
    }
   ],
   "source": [
    "df.head()"
   ]
  },
  {
   "cell_type": "code",
   "execution_count": 11,
   "metadata": {},
   "outputs": [],
   "source": [
    "# Getting the 31 shortlist features\n",
    "features = pd.read_csv('data_atlas/features_shortlist.csv')\n",
    "\n",
    "# Dataframe with only 31 features plus diabetes rate\n",
    "df2 = pd.read_csv('data_atlas/counties_features.csv')"
   ]
  },
  {
   "cell_type": "code",
   "execution_count": null,
   "metadata": {},
   "outputs": [],
   "source": [
    "df2.head()"
   ]
  },
  {
   "cell_type": "markdown",
   "metadata": {},
   "source": [
    "## 1. Correlation heatmap"
   ]
  },
  {
   "cell_type": "code",
   "execution_count": null,
   "metadata": {
    "scrolled": false
   },
   "outputs": [],
   "source": [
    "# Make correlation matrix\n",
    "# Remove state, county (categorical) and obesity (because it is health data and correlated with diabites)\n",
    "\n",
    "# Note this is based on counties data. In previous analysis state averages were used.\n",
    "corr =df2.iloc[:,2:-1].corr() # Remove state, county (categorical) and obesity (because it is health data and correlated with diabites)\n",
    "\n",
    "\n",
    "plt.figure(figsize=(12,12))\n",
    "ax = sns.heatmap(\n",
    "    corr,\n",
    "    vmin=-1, vmax=1, center=0,\n",
    "    cmap=sns.diverging_palette(20,220,n=200),\n",
    "    square=True)\n",
    "\n",
    "ax.set_xticklabels(\n",
    "    ax.get_xticklabels(),\n",
    "    rotation=45,\n",
    "    horizontalalignment='right')\n",
    "\n",
    "plt.show()"
   ]
  },
  {
   "cell_type": "code",
   "execution_count": null,
   "metadata": {},
   "outputs": [],
   "source": [
    "corr"
   ]
  },
  {
   "cell_type": "markdown",
   "metadata": {},
   "source": [
    "## 2. Check missing values and outliers"
   ]
  },
  {
   "cell_type": "code",
   "execution_count": null,
   "metadata": {},
   "outputs": [],
   "source": [
    "# Use state average for PCA analysis\n",
    "\n",
    "# First calculate state average and fill nan with national average\n",
    "\n",
    "df2 = pd.read_csv('data_atlas/counties_features.csv')\n",
    "state_avg = df2.groupby('State',as_index=False).mean()"
   ]
  },
  {
   "cell_type": "code",
   "execution_count": null,
   "metadata": {},
   "outputs": [],
   "source": [
    "state_avg.head()"
   ]
  },
  {
   "cell_type": "code",
   "execution_count": null,
   "metadata": {},
   "outputs": [],
   "source": [
    "# Replace states that has no values with national average \n",
    "state_avg.fillna(state_avg.mean(), inplace=True)"
   ]
  },
  {
   "cell_type": "code",
   "execution_count": null,
   "metadata": {},
   "outputs": [],
   "source": [
    "# Double check after replace nan \n",
    "state_avg.isnull().sum().sum()"
   ]
  },
  {
   "cell_type": "code",
   "execution_count": null,
   "metadata": {},
   "outputs": [],
   "source": [
    "# Check for outliners\n",
    "\n",
    "# For loop to find outliers and convert them to NaN\n",
    "outliers = {}\n",
    "\n",
    "for column in state_avg.iloc[:,1:]: # remove 'States' column\n",
    "    data = state_avg[column]\n",
    "    mean = data.mean()\n",
    "    std = data.std()\n",
    "    \n",
    "    # Define outliers and find their indexes\n",
    "    outlier = data[(data > (mean+3*std))|(data < (mean-3*std))] # Alternatively: low,high = np.percentile(data,[1,99])\n",
    "    slice_index = outlier.index # \n",
    "    \n",
    "    \n",
    "    # If there is no outlier in this column, go back to the beginning of the loop\n",
    "    if slice_index.shape[0] == 0: continue   \n",
    "    \n",
    "    # Append outliers in a dictionary\n",
    "    outliers[column]=state_avg[column].loc[slice_index]\n",
    "    \n",
    "    #print(df[[column]].loc[slice_index],df[column].mean())\n",
    "    \n",
    "    # Can Convert outliers into NaN in df if needed:\n",
    "    \n",
    "    #data[(data > (mean+3*std))|(data < (mean-3*std))] = np.NaN\n",
    "    "
   ]
  },
  {
   "cell_type": "code",
   "execution_count": null,
   "metadata": {},
   "outputs": [],
   "source": [
    "#state_avg.to_csv('stateaverages.csv')"
   ]
  },
  {
   "cell_type": "code",
   "execution_count": null,
   "metadata": {},
   "outputs": [],
   "source": [
    "state_avg.describe()"
   ]
  },
  {
   "cell_type": "code",
   "execution_count": null,
   "metadata": {},
   "outputs": [],
   "source": [
    "means = pd.DataFrame(state_avg.mean())\n",
    "means.columns = ['National_average']"
   ]
  },
  {
   "cell_type": "code",
   "execution_count": null,
   "metadata": {},
   "outputs": [],
   "source": [
    "# State average outliers\n",
    "# df_outliers = pd.DataFrame(outliers.values())\n",
    "# df_outliers.columns = state_avg.iloc[df_outliers.columns.tolist(),0].tolist() # Change column names and add state mean values\n",
    "# df_outliers = df_outliers.join(means,how='left')\n",
    "# df_outliers = df_outliers.join(features.set_index('VarCode')['VarName'],how='left') # Add variable name \n",
    "# df_outliers"
   ]
  },
  {
   "cell_type": "code",
   "execution_count": null,
   "metadata": {},
   "outputs": [],
   "source": [
    "# Check missing values\n",
    "df2.isnull().sum()"
   ]
  },
  {
   "cell_type": "code",
   "execution_count": null,
   "metadata": {},
   "outputs": [],
   "source": [
    "df2.head()"
   ]
  },
  {
   "cell_type": "code",
   "execution_count": null,
   "metadata": {},
   "outputs": [],
   "source": [
    "# Replace missing values with State averages\n",
    "\n",
    "for column in df2.columns[3:]:\n",
    "\n",
    "    df_null = df2.loc[df2[column].isnull(),['State',column]] # Subset df2 with only null rows and two columns: state and one feature\n",
    "    column_name = df_null.columns[1] #feature name\n",
    "    \n",
    "    nans =  df_null[column].tolist()  # Create a list of nans \n",
    "    avg = [] # Create an empty list for state average values to be replaced \n",
    "    \n",
    "    for row in range(df_null.shape[0]):\n",
    "        state = df_null['State'].tolist()[row] # Get name of state to which the county with null value belongs\n",
    "        \n",
    "        # find mean value from the state_avg dataframe, append to avg\n",
    "        avg.append(state_avg.loc[state_avg['State']== state,column_name].values[0]) \n",
    "\n",
    "    # Replace the nans for each column in df2\n",
    "    df2[column].replace(to_replace=nans, value=avg, inplace=True)\n",
    "\n"
   ]
  },
  {
   "cell_type": "code",
   "execution_count": null,
   "metadata": {},
   "outputs": [],
   "source": [
    "# Confirm no missing values\n",
    "df2.isnull().sum().sum()"
   ]
  },
  {
   "cell_type": "code",
   "execution_count": null,
   "metadata": {},
   "outputs": [],
   "source": [
    "df2.head()"
   ]
  },
  {
   "cell_type": "code",
   "execution_count": null,
   "metadata": {},
   "outputs": [],
   "source": [
    "# Check for outliners for county data using the 3*sd method\n",
    "\n",
    "# For loop to find outliers and convert them to NaN\n",
    "county_outliers = {}\n",
    "\n",
    "for column in df2.iloc[:,3:]: # remove 'FIPS','State', 'County' column\n",
    "    data = df2[column]\n",
    "    mean = data.mean()\n",
    "    std = data.std()\n",
    "    \n",
    "    # Define outliers and find their indexes\n",
    "    outlier = data[(data > (mean+3*std))|(data < (mean-3*std))] # Alternatively: low,high = np.percentile(data,[1,99])\n",
    "    slice_index = outlier.index # \n",
    "    \n",
    "    \n",
    "    # If there is no outlier in this column, go back to the beginning of the loop\n",
    "    if slice_index.shape[0] == 0: continue   \n",
    "    \n",
    "    # Append outliers in a dictionary\n",
    "    county_outliers[column]=df2[column].loc[slice_index]\n",
    "    \n",
    "    #print(df[[column]].loc[slice_index],df[column].mean())\n",
    "    \n",
    "    # Can Convert outliers into NaN in df if needed:\n",
    "    \n",
    "    #data[(data > (mean+3*std))|(data < (mean-3*std))] = np.NaN\n",
    "    "
   ]
  },
  {
   "cell_type": "code",
   "execution_count": null,
   "metadata": {},
   "outputs": [],
   "source": [
    "#county_outliers"
   ]
  },
  {
   "cell_type": "code",
   "execution_count": null,
   "metadata": {},
   "outputs": [],
   "source": [
    "# Winsorization of outliers \n",
    "from scipy.stats.mstats import winsorize\n",
    "\n",
    "df_winsorized = df2.copy()\n",
    "for column in df_winsorized.iloc[:,3:]:\n",
    "    df_winsorized[column]=winsorize(df_winsorized[column],limits=[0.05,0.05])\n"
   ]
  },
  {
   "cell_type": "code",
   "execution_count": null,
   "metadata": {},
   "outputs": [],
   "source": [
    "df_winsorized.shape"
   ]
  },
  {
   "cell_type": "code",
   "execution_count": null,
   "metadata": {},
   "outputs": [],
   "source": [
    "df_winsorized.to_csv('data_atlas/counties_features_cleaned.csv')"
   ]
  },
  {
   "cell_type": "markdown",
   "metadata": {},
   "source": [
    "Removed outliers via winsorization. \n",
    "Tried winsorized data on PCA and t-test analyses. \n",
    "However, PCA results (% variance explained is lower than using stage average, so state average data is kept).\n",
    "Using winsorized data on the t-test might not be necessary and the distribution of data become less normal than before. Therefore, the original county data were used for the t-test."
   ]
  },
  {
   "cell_type": "markdown",
   "metadata": {},
   "source": [
    "## 3. PCA analysis"
   ]
  },
  {
   "cell_type": "code",
   "execution_count": null,
   "metadata": {},
   "outputs": [],
   "source": [
    "from sklearn.cluster import KMeans\n",
    "from sklearn.decomposition import PCA, NMF\n",
    "from sklearn.preprocessing import StandardScaler, MinMaxScaler,RobustScaler,QuantileTransformer\n",
    "\n",
    "scaler = QuantileTransformer()\n",
    "\n",
    "\n",
    "data_scaled = scaler.fit_transform(state_avg.iloc[:,2:-1]) # remove state, county, diabetes (dependent var) and obesity (correlated health var)\n",
    "\n",
    "# Tried winsorized county-level data. Results not as good as state data\n",
    "#data_scaled = scaler.fit_transform(df_winsorized.iloc[:,3:]) \n",
    "\n",
    "pca = PCA(n_components=10)\n",
    "\n",
    "pca_features = pca.fit_transform(data_scaled)\n"
   ]
  },
  {
   "cell_type": "code",
   "execution_count": null,
   "metadata": {},
   "outputs": [],
   "source": []
  },
  {
   "cell_type": "code",
   "execution_count": null,
   "metadata": {},
   "outputs": [],
   "source": [
    "data_scaled.shape"
   ]
  },
  {
   "cell_type": "code",
   "execution_count": null,
   "metadata": {},
   "outputs": [],
   "source": [
    "pca_features.shape"
   ]
  },
  {
   "cell_type": "code",
   "execution_count": null,
   "metadata": {},
   "outputs": [],
   "source": [
    "tally = 0\n",
    "scree = [0]\n",
    "for percent in pca.explained_variance_ratio_:\n",
    "    tally+=percent\n",
    "    scree.append(tally)\n",
    "    \n",
    "plt.figure(figsize=(5,5))\n",
    "plt.plot(scree)\n",
    "plt.xlabel('Number of Principal Components')\n",
    "plt.ylabel('Fraction Variance Explained')\n",
    "plt.ylim(0,1)\n",
    "\n",
    "print(scree[1]) # first component explained 42% variance\n",
    "print(scree[2]) # first 2 components explained 59% variance\n",
    "print(scree[3]) # first 3 components explained 66% variance"
   ]
  },
  {
   "cell_type": "code",
   "execution_count": null,
   "metadata": {},
   "outputs": [],
   "source": [
    "# Visualize PC1 loadings\n",
    "y_range = list(range(1,len(state_avg.columns[2:-1])+1))\n",
    "\n",
    "fig, ax = plt.subplots(figsize=(8,10))\n",
    "plt.hlines(y=y_range, xmin=0,xmax=pca.components_[0],linewidth=5)\n",
    "\n",
    "ax.set_xlabel('PC1')\n",
    "#ax.tick_params(axis='both',which='major',labelsize=12)\n",
    "plt.yticks(y_range,features['VarName'][0:-1],fontsize=12)\n",
    "\n",
    "plt.show()\n"
   ]
  },
  {
   "cell_type": "code",
   "execution_count": null,
   "metadata": {},
   "outputs": [],
   "source": [
    "# Visualize PC2 loadings\n",
    "y_range = list(range(1,len(state_avg.columns[2:-1])+1))\n",
    "\n",
    "fig, ax = plt.subplots(figsize=(8,10))\n",
    "plt.hlines(y=y_range, xmin=0,xmax=pca.components_[1],linewidth=5)\n",
    "\n",
    "ax.set_xlabel('PC2')\n",
    "#ax.tick_params(axis='both',which='major',labelsize=12)\n",
    "plt.yticks(y_range,features['VarName'][0:-1],fontsize=12)\n",
    "\n",
    "plt.show()"
   ]
  },
  {
   "cell_type": "code",
   "execution_count": null,
   "metadata": {},
   "outputs": [],
   "source": [
    "# Plot PC1 values against diabetes rates across the states\n",
    "\n",
    "sns.regplot(x=pca_features[:,0],y=state_avg.PCT_DIABETES_ADULTS13)\n",
    "plt.xlabel('PC1')\n",
    " \n",
    "# corr = 0. 75"
   ]
  },
  {
   "cell_type": "markdown",
   "metadata": {},
   "source": [
    "## 4. t-test between subgroups \n",
    "### Metro vs. non-metro\n",
    "### Persistent poverty vs. non-poverty"
   ]
  },
  {
   "cell_type": "code",
   "execution_count": 13,
   "metadata": {},
   "outputs": [],
   "source": [
    "socio = pd.read_excel(\"atlas.xlsx\", sheet_name= \"SOCIOECONOMIC\")\n",
    "socio = socio.set_index('FIPS')\n",
    "metro = pd.DataFrame(socio['METRO13'])"
   ]
  },
  {
   "cell_type": "code",
   "execution_count": 14,
   "metadata": {},
   "outputs": [],
   "source": [
    "metro = metro.reset_index()"
   ]
  },
  {
   "cell_type": "code",
   "execution_count": 15,
   "metadata": {},
   "outputs": [
    {
     "data": {
      "text/html": [
       "<div>\n",
       "<style scoped>\n",
       "    .dataframe tbody tr th:only-of-type {\n",
       "        vertical-align: middle;\n",
       "    }\n",
       "\n",
       "    .dataframe tbody tr th {\n",
       "        vertical-align: top;\n",
       "    }\n",
       "\n",
       "    .dataframe thead th {\n",
       "        text-align: right;\n",
       "    }\n",
       "</style>\n",
       "<table border=\"1\" class=\"dataframe\">\n",
       "  <thead>\n",
       "    <tr style=\"text-align: right;\">\n",
       "      <th></th>\n",
       "      <th>FIPS</th>\n",
       "      <th>METRO13</th>\n",
       "    </tr>\n",
       "  </thead>\n",
       "  <tbody>\n",
       "    <tr>\n",
       "      <th>0</th>\n",
       "      <td>1001</td>\n",
       "      <td>1</td>\n",
       "    </tr>\n",
       "    <tr>\n",
       "      <th>1</th>\n",
       "      <td>1003</td>\n",
       "      <td>1</td>\n",
       "    </tr>\n",
       "    <tr>\n",
       "      <th>2</th>\n",
       "      <td>1005</td>\n",
       "      <td>0</td>\n",
       "    </tr>\n",
       "    <tr>\n",
       "      <th>3</th>\n",
       "      <td>1007</td>\n",
       "      <td>1</td>\n",
       "    </tr>\n",
       "    <tr>\n",
       "      <th>4</th>\n",
       "      <td>1009</td>\n",
       "      <td>1</td>\n",
       "    </tr>\n",
       "  </tbody>\n",
       "</table>\n",
       "</div>"
      ],
      "text/plain": [
       "   FIPS  METRO13\n",
       "0  1001        1\n",
       "1  1003        1\n",
       "2  1005        0\n",
       "3  1007        1\n",
       "4  1009        1"
      ]
     },
     "execution_count": 15,
     "metadata": {},
     "output_type": "execute_result"
    }
   ],
   "source": [
    "metro.head()"
   ]
  },
  {
   "cell_type": "code",
   "execution_count": 16,
   "metadata": {},
   "outputs": [],
   "source": [
    "df3 = pd.concat([df2,metro['METRO13']],axis=1) # Add metro data to dataframe\n",
    "\n",
    "# Tried winsorized data, the data distribution is less normal (when plotting the histgram) so did not end up using winsorized data for analyses. \n",
    "# df3 = pd.concat([df_winsorized,metro],axis=1)"
   ]
  },
  {
   "cell_type": "code",
   "execution_count": 17,
   "metadata": {},
   "outputs": [
    {
     "data": {
      "text/html": [
       "<div>\n",
       "<style scoped>\n",
       "    .dataframe tbody tr th:only-of-type {\n",
       "        vertical-align: middle;\n",
       "    }\n",
       "\n",
       "    .dataframe tbody tr th {\n",
       "        vertical-align: top;\n",
       "    }\n",
       "\n",
       "    .dataframe thead th {\n",
       "        text-align: right;\n",
       "    }\n",
       "</style>\n",
       "<table border=\"1\" class=\"dataframe\">\n",
       "  <thead>\n",
       "    <tr style=\"text-align: right;\">\n",
       "      <th></th>\n",
       "      <th>FIPS</th>\n",
       "      <th>State</th>\n",
       "      <th>County</th>\n",
       "      <th>PCT_DIABETES_ADULTS13</th>\n",
       "      <th>FSRPTH09</th>\n",
       "      <th>MEDHHINC15</th>\n",
       "      <th>PC_DIRSALES12</th>\n",
       "      <th>RECFACPTH09</th>\n",
       "      <th>SPECSPTH09</th>\n",
       "      <th>SODA_PRICE10</th>\n",
       "      <th>...</th>\n",
       "      <th>PCT_SNAP12</th>\n",
       "      <th>PCT_FREE_LUNCH09</th>\n",
       "      <th>PERPOV10</th>\n",
       "      <th>SUPERCPTH09</th>\n",
       "      <th>PCT_SBP09</th>\n",
       "      <th>SNAPSPTH12</th>\n",
       "      <th>POVRATE15</th>\n",
       "      <th>PCT_LACCESS_HHNV10</th>\n",
       "      <th>PCT_OBESE_ADULTS13</th>\n",
       "      <th>METRO13</th>\n",
       "    </tr>\n",
       "  </thead>\n",
       "  <tbody>\n",
       "    <tr>\n",
       "      <th>0</th>\n",
       "      <td>1001</td>\n",
       "      <td>AL</td>\n",
       "      <td>Autauga</td>\n",
       "      <td>13.0</td>\n",
       "      <td>0.628059</td>\n",
       "      <td>56580.0</td>\n",
       "      <td>5.582238</td>\n",
       "      <td>0.073889</td>\n",
       "      <td>0.036945</td>\n",
       "      <td>0.972216</td>\n",
       "      <td>...</td>\n",
       "      <td>18.824675</td>\n",
       "      <td>32.006749</td>\n",
       "      <td>0</td>\n",
       "      <td>0.018472</td>\n",
       "      <td>4.509008</td>\n",
       "      <td>0.674004</td>\n",
       "      <td>12.7</td>\n",
       "      <td>3.284786</td>\n",
       "      <td>34.1</td>\n",
       "      <td>1</td>\n",
       "    </tr>\n",
       "    <tr>\n",
       "      <th>1</th>\n",
       "      <td>1003</td>\n",
       "      <td>AL</td>\n",
       "      <td>Baldwin</td>\n",
       "      <td>10.4</td>\n",
       "      <td>1.125938</td>\n",
       "      <td>52387.0</td>\n",
       "      <td>3.403433</td>\n",
       "      <td>0.100331</td>\n",
       "      <td>0.117053</td>\n",
       "      <td>1.001391</td>\n",
       "      <td>...</td>\n",
       "      <td>18.824675</td>\n",
       "      <td>33.216055</td>\n",
       "      <td>0</td>\n",
       "      <td>0.033444</td>\n",
       "      <td>4.509008</td>\n",
       "      <td>0.725055</td>\n",
       "      <td>12.9</td>\n",
       "      <td>2.147827</td>\n",
       "      <td>27.4</td>\n",
       "      <td>1</td>\n",
       "    </tr>\n",
       "    <tr>\n",
       "      <th>2</th>\n",
       "      <td>1005</td>\n",
       "      <td>AL</td>\n",
       "      <td>Barbour</td>\n",
       "      <td>18.4</td>\n",
       "      <td>0.433887</td>\n",
       "      <td>31433.0</td>\n",
       "      <td>0.478663</td>\n",
       "      <td>0.036157</td>\n",
       "      <td>0.072314</td>\n",
       "      <td>0.992584</td>\n",
       "      <td>...</td>\n",
       "      <td>18.824675</td>\n",
       "      <td>68.245839</td>\n",
       "      <td>1</td>\n",
       "      <td>0.000000</td>\n",
       "      <td>4.509008</td>\n",
       "      <td>1.280590</td>\n",
       "      <td>32.0</td>\n",
       "      <td>4.135869</td>\n",
       "      <td>44.4</td>\n",
       "      <td>0</td>\n",
       "    </tr>\n",
       "    <tr>\n",
       "      <th>3</th>\n",
       "      <td>1007</td>\n",
       "      <td>AL</td>\n",
       "      <td>Bibb</td>\n",
       "      <td>14.8</td>\n",
       "      <td>0.261540</td>\n",
       "      <td>40767.0</td>\n",
       "      <td>0.883314</td>\n",
       "      <td>0.043590</td>\n",
       "      <td>0.000000</td>\n",
       "      <td>0.972216</td>\n",
       "      <td>...</td>\n",
       "      <td>18.824675</td>\n",
       "      <td>50.278552</td>\n",
       "      <td>0</td>\n",
       "      <td>0.043590</td>\n",
       "      <td>4.509008</td>\n",
       "      <td>0.719122</td>\n",
       "      <td>22.2</td>\n",
       "      <td>3.458580</td>\n",
       "      <td>40.3</td>\n",
       "      <td>1</td>\n",
       "    </tr>\n",
       "    <tr>\n",
       "      <th>4</th>\n",
       "      <td>1009</td>\n",
       "      <td>AL</td>\n",
       "      <td>Blount</td>\n",
       "      <td>14.1</td>\n",
       "      <td>0.331351</td>\n",
       "      <td>50487.0</td>\n",
       "      <td>8.567571</td>\n",
       "      <td>0.052319</td>\n",
       "      <td>0.034879</td>\n",
       "      <td>0.972216</td>\n",
       "      <td>...</td>\n",
       "      <td>18.824675</td>\n",
       "      <td>39.681098</td>\n",
       "      <td>0</td>\n",
       "      <td>0.017440</td>\n",
       "      <td>4.509008</td>\n",
       "      <td>0.657144</td>\n",
       "      <td>14.7</td>\n",
       "      <td>3.269380</td>\n",
       "      <td>34.6</td>\n",
       "      <td>1</td>\n",
       "    </tr>\n",
       "  </tbody>\n",
       "</table>\n",
       "<p>5 rows × 36 columns</p>\n",
       "</div>"
      ],
      "text/plain": [
       "   FIPS State   County  PCT_DIABETES_ADULTS13  FSRPTH09  MEDHHINC15  \\\n",
       "0  1001    AL  Autauga                   13.0  0.628059     56580.0   \n",
       "1  1003    AL  Baldwin                   10.4  1.125938     52387.0   \n",
       "2  1005    AL  Barbour                   18.4  0.433887     31433.0   \n",
       "3  1007    AL     Bibb                   14.8  0.261540     40767.0   \n",
       "4  1009    AL   Blount                   14.1  0.331351     50487.0   \n",
       "\n",
       "   PC_DIRSALES12  RECFACPTH09  SPECSPTH09  SODA_PRICE10  ...  PCT_SNAP12  \\\n",
       "0       5.582238     0.073889    0.036945      0.972216  ...   18.824675   \n",
       "1       3.403433     0.100331    0.117053      1.001391  ...   18.824675   \n",
       "2       0.478663     0.036157    0.072314      0.992584  ...   18.824675   \n",
       "3       0.883314     0.043590    0.000000      0.972216  ...   18.824675   \n",
       "4       8.567571     0.052319    0.034879      0.972216  ...   18.824675   \n",
       "\n",
       "   PCT_FREE_LUNCH09  PERPOV10  SUPERCPTH09  PCT_SBP09  SNAPSPTH12  POVRATE15  \\\n",
       "0         32.006749         0     0.018472   4.509008    0.674004       12.7   \n",
       "1         33.216055         0     0.033444   4.509008    0.725055       12.9   \n",
       "2         68.245839         1     0.000000   4.509008    1.280590       32.0   \n",
       "3         50.278552         0     0.043590   4.509008    0.719122       22.2   \n",
       "4         39.681098         0     0.017440   4.509008    0.657144       14.7   \n",
       "\n",
       "   PCT_LACCESS_HHNV10  PCT_OBESE_ADULTS13  METRO13  \n",
       "0            3.284786                34.1        1  \n",
       "1            2.147827                27.4        1  \n",
       "2            4.135869                44.4        0  \n",
       "3            3.458580                40.3        1  \n",
       "4            3.269380                34.6        1  \n",
       "\n",
       "[5 rows x 36 columns]"
      ]
     },
     "execution_count": 17,
     "metadata": {},
     "output_type": "execute_result"
    }
   ],
   "source": [
    "df3.head()"
   ]
  },
  {
   "cell_type": "code",
   "execution_count": 18,
   "metadata": {},
   "outputs": [
    {
     "name": "stdout",
     "output_type": "stream",
     "text": [
      "There are 1167 metro and 1976 non-metro counties.\n"
     ]
    }
   ],
   "source": [
    "# Diabete rates in Metro and non-metro counties \n",
    "\n",
    "diabetes_metro = df3.loc[df3['METRO13']== 1,:]\n",
    "diabetes_nonmetro = df3.loc[df3['METRO13']== 0,:]\n",
    "print('There are {} metro and {} non-metro counties.'.format(diabetes_metro.shape[0],diabetes_nonmetro.shape[0]))"
   ]
  },
  {
   "cell_type": "markdown",
   "metadata": {},
   "source": [
    "### Are there differences in diabete rates between the means of metro and nonmetro counties\n",
    "\n",
    "Null hypothesis: No, there is not.\n",
    "Hypothesis: Yes, there is difference in diabete rate between metro and non-metro counties."
   ]
  },
  {
   "cell_type": "code",
   "execution_count": 19,
   "metadata": {},
   "outputs": [
    {
     "name": "stdout",
     "output_type": "stream",
     "text": [
      "Metro Non-Metro \n",
      " 10.770926243567759 11.51062753036438 \n",
      " 2.345589304259139 2.5252102879584704 \n",
      " 1167 1976\n"
     ]
    }
   ],
   "source": [
    "# Mean and population SD\n",
    "\n",
    "x1 = np.mean(diabetes_metro['PCT_DIABETES_ADULTS13'])\n",
    "x0 = np.mean(diabetes_nonmetro['PCT_DIABETES_ADULTS13'])\n",
    "\n",
    "s1 = np.std(diabetes_metro['PCT_DIABETES_ADULTS13'], ddof=1)\n",
    "s0 = np.std(diabetes_nonmetro['PCT_DIABETES_ADULTS13'],ddof=1)\n",
    "\n",
    "n1 = diabetes_metro.shape[0]\n",
    "n0 = diabetes_nonmetro.shape[0]\n",
    "print('Metro','Non-Metro','\\n',x1,x0,'\\n',s1,s0,'\\n',n1,n0)\n"
   ]
  },
  {
   "cell_type": "code",
   "execution_count": 20,
   "metadata": {},
   "outputs": [
    {
     "name": "stdout",
     "output_type": "stream",
     "text": [
      "t value 1.6461615067831432 \n",
      " Metro CI: 10.657897477438556 10.883955009696962 \n",
      " Non-Metro CI 11.41711355449565 11.604141506233109\n"
     ]
    }
   ],
   "source": [
    "# 95% confidence interval of the mean using t distribution\n",
    "tvalue= t.ppf(0.95,n1-1)\n",
    "\n",
    "CI_upper1 = x1 + tvalue*s1/np.sqrt(n1)\n",
    "CI_lower1 = x1 - tvalue*s1/np.sqrt(n1)\n",
    "\n",
    "CI_upper0 = x0 + tvalue*s0/np.sqrt(n0)\n",
    "CI_lower0 = x0 - tvalue*s0/np.sqrt(n0)\n",
    "print('t value',tvalue, '\\n',\n",
    "      \"Metro CI:\",CI_lower1,CI_upper1,'\\n',\n",
    "     \"Non-Metro CI\",CI_lower0,CI_upper0 )"
   ]
  },
  {
   "cell_type": "code",
   "execution_count": 21,
   "metadata": {},
   "outputs": [
    {
     "name": "stderr",
     "output_type": "stream",
     "text": [
      "/Users/Sabrina/anaconda3/lib/python3.6/site-packages/numpy/lib/histograms.py:829: RuntimeWarning: invalid value encountered in greater_equal\n",
      "  keep = (tmp_a >= first_edge)\n",
      "/Users/Sabrina/anaconda3/lib/python3.6/site-packages/numpy/lib/histograms.py:830: RuntimeWarning: invalid value encountered in less_equal\n",
      "  keep &= (tmp_a <= last_edge)\n"
     ]
    },
    {
     "data": {
      "image/png": "[encoded data removed]",
      "text/plain": [
       "<Figure size 432x288 with 1 Axes>"
      ]
     },
     "metadata": {
      "needs_background": "light"
     },
     "output_type": "display_data"
    }
   ],
   "source": [
    "# Plot distribution of diabetes rates \n",
    "plt.hist(diabetes_metro['PCT_DIABETES_ADULTS13'],bins=20)\n",
    "plt.xlabel('Metro Counties Diabetes rate in 2013(%)')\n",
    "plt.ylabel('Number of counties')\n",
    "plt.axvline(10.66,color='r',linestyle='--')\n",
    "plt.axvline(10.88,color='r',linestyle='--')\n",
    "plt.show()"
   ]
  },
  {
   "cell_type": "code",
   "execution_count": 22,
   "metadata": {},
   "outputs": [
    {
     "data": {
      "image/png": "[encoded data removed]",
      "text/plain": [
       "<Figure size 432x288 with 1 Axes>"
      ]
     },
     "metadata": {
      "needs_background": "light"
     },
     "output_type": "display_data"
    }
   ],
   "source": [
    "plt.hist(diabetes_nonmetro['PCT_DIABETES_ADULTS13'], bins=30)\n",
    "plt.xlabel('Non-Metro Counties Diabetes rate in 2013(%)')\n",
    "plt.ylabel('Number of counties')\n",
    "plt.axvline(11.42,color='r',linestyle='--')\n",
    "plt.axvline(11.60,color='r',linestyle='--')\n",
    "plt.show()"
   ]
  },
  {
   "cell_type": "code",
   "execution_count": 23,
   "metadata": {},
   "outputs": [
    {
     "data": {
      "text/plain": [
       "Text(0, 0.5, 'Diabetes Rate (%)')"
      ]
     },
     "execution_count": 23,
     "metadata": {},
     "output_type": "execute_result"
    },
    {
     "data": {
      "image/png": "[encoded data removed]",
      "text/plain": [
       "<Figure size 432x288 with 1 Axes>"
      ]
     },
     "metadata": {
      "needs_background": "light"
     },
     "output_type": "display_data"
    }
   ],
   "source": [
    "# Swarm plot by state means\n",
    "sns.swarmplot(x='METRO13', y='PCT_DIABETES_ADULTS13', data=df3.groupby(['State','METRO13']).mean().reset_index())\n",
    "plt.xlabel('Metro (1) vs. NonMetro (0)')\n",
    "plt.ylabel('Diabetes Rate (%)')"
   ]
  },
  {
   "cell_type": "code",
   "execution_count": 24,
   "metadata": {},
   "outputs": [],
   "source": [
    "# Empirical cumulative distribution function (ECDF)\n",
    "\n",
    "def ecdf(data):\n",
    "    \"\"\"Compute ECDF for a one-dimensional array of measurements\"\"\"\n",
    "    n =len(data)\n",
    "    x = np.sort(data)\n",
    "    y = np.arange(1,n+1)/n\n",
    "    return x,y\n"
   ]
  },
  {
   "cell_type": "code",
   "execution_count": 25,
   "metadata": {},
   "outputs": [
    {
     "data": {
      "image/png": "[encoded data removed]",
      "text/plain": [
       "<Figure size 432x288 with 1 Axes>"
      ]
     },
     "metadata": {
      "needs_background": "light"
     },
     "output_type": "display_data"
    }
   ],
   "source": [
    "# Plot ECDF for metro and nonmetro counties\n",
    "\n",
    "x_metro, y_metro = ecdf(diabetes_metro['PCT_DIABETES_ADULTS13'])\n",
    "x_nonmetro, y_nonmetro = ecdf(diabetes_nonmetro['PCT_DIABETES_ADULTS13'])\n",
    "\n",
    "plt.plot(x_metro,y_metro,marker='.',linestyle='none',label='Metro')\n",
    "plt.plot(x_nonmetro,y_nonmetro,marker='.',linestyle='none', color = 'red',label='NonMetro')\n",
    "plt.xlabel('Diabetes rate (%)')\n",
    "plt.ylabel('ECDF')\n",
    "plt.legend()\n",
    "plt.show()"
   ]
  },
  {
   "cell_type": "code",
   "execution_count": 26,
   "metadata": {},
   "outputs": [
    {
     "name": "stdout",
     "output_type": "stream",
     "text": [
      "2.4138285332999234 8.300546085662871\n"
     ]
    }
   ],
   "source": [
    "# Calculate pooled standard deviation and t statistic\n",
    "sp = np.sqrt(((n0-1)*s1**2+(n1-1)*s0**2)/(n0+n1-2))\n",
    "tp = (x0-x1)/(sp*np.sqrt(1/n0+1/n1))\n",
    "print(sp,tp)"
   ]
  },
  {
   "cell_type": "code",
   "execution_count": 27,
   "metadata": {},
   "outputs": [
    {
     "name": "stdout",
     "output_type": "stream",
     "text": [
      "0.0\n"
     ]
    }
   ],
   "source": [
    "dfreedom = n1+n0-2\n",
    "p1 = 1 - t.cdf(abs(tp),dfreedom)\n",
    "print(round(p1,2))"
   ]
  },
  {
   "cell_type": "code",
   "execution_count": 28,
   "metadata": {},
   "outputs": [
    {
     "name": "stdout",
     "output_type": "stream",
     "text": [
      "p value: 0.0\n"
     ]
    }
   ],
   "source": [
    "# Alternatively we can use stats.ttest_ind \n",
    "t1,p1 = stats.ttest_ind(diabetes_metro['PCT_DIABETES_ADULTS13'],diabetes_nonmetro['PCT_DIABETES_ADULTS13'],\n",
    "                        nan_policy='omit')\n",
    "print('p value:',round(p1,2))"
   ]
  },
  {
   "cell_type": "markdown",
   "metadata": {},
   "source": [
    "### Because p=0, we can reject our null hypothesis and conclude that there is significant differences in diabetes rate between metro and non-metro counties. \n",
    "### Non-metro counties has higher diabetes rate. "
   ]
  },
  {
   "cell_type": "markdown",
   "metadata": {},
   "source": [
    "### How about between persistant-poverty counties and non-poverty counties? (feature code PERPOV10)\n",
    "\n",
    "#### Null hypothesis: There is no difference in diabetes rate between them\n",
    "#### Hypothesis: Yes, there is. "
   ]
  },
  {
   "cell_type": "code",
   "execution_count": 29,
   "metadata": {},
   "outputs": [
    {
     "name": "stdout",
     "output_type": "stream",
     "text": [
      "There are 353 ppov and 2790 non-ppov counties.\n"
     ]
    }
   ],
   "source": [
    "ppov = df3.loc[df3['PERPOV10']== 1,:]\n",
    "non_ppov = df3.loc[df3['PERPOV10']== 0,:]\n",
    "print('There are {} ppov and {} non-ppov counties.'.format(ppov.shape[0],non_ppov.shape[0]))"
   ]
  },
  {
   "cell_type": "code",
   "execution_count": 30,
   "metadata": {},
   "outputs": [
    {
     "data": {
      "image/png": "[encoded data removed]",
      "text/plain": [
       "<Figure size 432x288 with 1 Axes>"
      ]
     },
     "metadata": {
      "needs_background": "light"
     },
     "output_type": "display_data"
    }
   ],
   "source": [
    "# Visualize the two groups\n",
    " \n",
    "plt.hist(ppov['PCT_DIABETES_ADULTS13'], bins=20)\n",
    "plt.xlabel('Persistent Poverty Counties Diabetes rate in 2013(%)')\n",
    "plt.xlim(0,25)\n",
    "plt.ylabel('Number of counties')\n",
    "plt.show()"
   ]
  },
  {
   "cell_type": "code",
   "execution_count": 31,
   "metadata": {},
   "outputs": [
    {
     "data": {
      "image/png": "[encoded data removed]",
      "text/plain": [
       "<Figure size 432x288 with 1 Axes>"
      ]
     },
     "metadata": {
      "needs_background": "light"
     },
     "output_type": "display_data"
    }
   ],
   "source": [
    "plt.hist(non_ppov['PCT_DIABETES_ADULTS13'], bins=20)\n",
    "plt.xlabel('Non-Poverty Counties Diabetes rate in 2013(%)')\n",
    "plt.ylabel('Number of counties')\n",
    "plt.xlim(0,25)\n",
    "plt.show()"
   ]
  },
  {
   "cell_type": "code",
   "execution_count": 32,
   "metadata": {},
   "outputs": [
    {
     "data": {
      "image/png": "[encoded data removed]",
      "text/plain": [
       "<Figure size 432x288 with 1 Axes>"
      ]
     },
     "metadata": {
      "needs_background": "light"
     },
     "output_type": "display_data"
    }
   ],
   "source": [
    "x_ppov, y_ppov = ecdf(ppov['PCT_DIABETES_ADULTS13'])\n",
    "x_nonppov, y_nonppov = ecdf(non_ppov['PCT_DIABETES_ADULTS13'])\n",
    "\n",
    "plt.plot(x_ppov, y_ppov,marker='.',linestyle='none',label='Persistent Poverty')\n",
    "plt.plot(x_nonppov, y_nonppov,marker='.',linestyle='none', color = 'red',label='Non-Poverty')\n",
    "plt.xlabel('Diabetes rate (%)')\n",
    "plt.ylabel('ECDF')\n",
    "plt.legend()\n",
    "plt.show()"
   ]
  },
  {
   "cell_type": "code",
   "execution_count": null,
   "metadata": {},
   "outputs": [],
   "source": [
    "# Because the size of two groups are very different, we will perform Weltch's t-test by setting equal_var=False\n",
    "\n",
    "t2,p2 = stats.ttest_ind(ppov['PCT_DIABETES_ADULTS13'],non_ppov['PCT_DIABETES_ADULTS13'].dropna(),equal_var=False)\n",
    "print('p value:',round(p2,2))"
   ]
  },
  {
   "cell_type": "markdown",
   "metadata": {},
   "source": [
    "### Because p=0, we can reject our hypothesis and conclude that the diabetes rate in non-poverty counties is significantly different (smaller than) persistent poverty counties."
   ]
  },
  {
   "cell_type": "code",
   "execution_count": null,
   "metadata": {},
   "outputs": [],
   "source": [
    "ppov.head()"
   ]
  },
  {
   "cell_type": "code",
   "execution_count": null,
   "metadata": {},
   "outputs": [],
   "source": [
    "plt.scatter('SODA_PRICE10','PCT_DIABETES_ADULTS13',data=ppov)"
   ]
  },
  {
   "cell_type": "code",
   "execution_count": null,
   "metadata": {},
   "outputs": [],
   "source": [
    "# Bar chart comparing between persistent poverty counties and non-poverty counties\n",
    "df3.iloc[:,3:].head()"
   ]
  },
  {
   "cell_type": "markdown",
   "metadata": {},
   "source": [
    "Now we have established that non-metro counties (NMC) and persistant poverty counties (PPC) have higher diabetes rates than metro counties and non-persistant poverty counties, we are relatively certain that poverty levels and local food environments may contribute to higher diabetes rate.  \n",
    "The next question is: if focusing on PPC and NMC, respectively, what factors may help to improve locals' lifestyle and alleviate diabetes rate?"
   ]
  },
  {
   "cell_type": "code",
   "execution_count": 33,
   "metadata": {},
   "outputs": [
    {
     "name": "stdout",
     "output_type": "stream",
     "text": [
      "(353, 36) (1976, 36)\n"
     ]
    }
   ],
   "source": [
    "PPC = ppov.copy() # persistant poverty counties (PPC) \n",
    "NPPC = non_ppov.copy() # Non-persistant poverty counties (NPPC) \n",
    "NMC = diabetes_nonmetro.copy() #non-metro counties (NMC)\n",
    "MC = diabetes_metro.copy() # metro counties (MC)\n",
    "print(PPC.shape,NMC.shape)\n"
   ]
  },
  {
   "cell_type": "code",
   "execution_count": 34,
   "metadata": {},
   "outputs": [
    {
     "name": "stdout",
     "output_type": "stream",
     "text": [
      "Non metro PPC: 301\n",
      "Metro PPC: 52\n",
      "Non metro NPPC: 1675\n",
      "Metro NPPC: 1115\n"
     ]
    }
   ],
   "source": [
    "# How many PPC are also NMC?\n",
    "print('Non metro PPC:',len(list(set(PPC.FIPS).intersection(set(NMC.FIPS)))))\n",
    "print('Metro PPC:',len(list(set(PPC.FIPS).intersection(set(MC.FIPS)))))\n",
    "print('Non metro NPPC:',len(list(set(NPPC.FIPS).intersection(set(NMC.FIPS)))))\n",
    "print('Metro NPPC:',len(list(set(NPPC.FIPS).intersection(set(MC.FIPS)))))"
   ]
  },
  {
   "cell_type": "code",
   "execution_count": 35,
   "metadata": {},
   "outputs": [
    {
     "data": {
      "text/html": [
       "<div>\n",
       "<style scoped>\n",
       "    .dataframe tbody tr th:only-of-type {\n",
       "        vertical-align: middle;\n",
       "    }\n",
       "\n",
       "    .dataframe tbody tr th {\n",
       "        vertical-align: top;\n",
       "    }\n",
       "\n",
       "    .dataframe thead th {\n",
       "        text-align: right;\n",
       "    }\n",
       "</style>\n",
       "<table border=\"1\" class=\"dataframe\">\n",
       "  <thead>\n",
       "    <tr style=\"text-align: right;\">\n",
       "      <th></th>\n",
       "      <th>poverty</th>\n",
       "      <th>metro</th>\n",
       "      <th>counts</th>\n",
       "    </tr>\n",
       "  </thead>\n",
       "  <tbody>\n",
       "    <tr>\n",
       "      <th>0</th>\n",
       "      <td>PPC</td>\n",
       "      <td>MC</td>\n",
       "      <td>52</td>\n",
       "    </tr>\n",
       "    <tr>\n",
       "      <th>1</th>\n",
       "      <td>PPC</td>\n",
       "      <td>NMC</td>\n",
       "      <td>301</td>\n",
       "    </tr>\n",
       "    <tr>\n",
       "      <th>2</th>\n",
       "      <td>NPPC</td>\n",
       "      <td>MC</td>\n",
       "      <td>1115</td>\n",
       "    </tr>\n",
       "    <tr>\n",
       "      <th>3</th>\n",
       "      <td>NPPC</td>\n",
       "      <td>NMC</td>\n",
       "      <td>1675</td>\n",
       "    </tr>\n",
       "  </tbody>\n",
       "</table>\n",
       "</div>"
      ],
      "text/plain": [
       "  poverty metro  counts\n",
       "0     PPC    MC      52\n",
       "1     PPC   NMC     301\n",
       "2    NPPC    MC    1115\n",
       "3    NPPC   NMC    1675"
      ]
     },
     "execution_count": 35,
     "metadata": {},
     "output_type": "execute_result"
    }
   ],
   "source": [
    "a = ['PPC','PPC','NPPC','NPPC']\n",
    "b = ['MC','NMC','MC','NMC']\n",
    "c= [52,301,1115,1675]\n",
    "foo = pd.DataFrame(dict(poverty=a, metro=b,counts=c))\n",
    "foo\n"
   ]
  },
  {
   "cell_type": "code",
   "execution_count": 36,
   "metadata": {},
   "outputs": [
    {
     "data": {
      "image/png": "[encoded data removed]",
      "text/plain": [
       "<Figure size 432x288 with 1 Axes>"
      ]
     },
     "metadata": {
      "needs_background": "light"
     },
     "output_type": "display_data"
    }
   ],
   "source": [
    "_ = sns.barplot(x='poverty',y='counts',hue='metro', data=foo)\n"
   ]
  },
  {
   "cell_type": "code",
   "execution_count": null,
   "metadata": {},
   "outputs": [],
   "source": [
    "df3.shape"
   ]
  },
  {
   "cell_type": "code",
   "execution_count": null,
   "metadata": {},
   "outputs": [],
   "source": []
  }
 ],
 "metadata": {
  "kernelspec": {
   "display_name": "Python 3",
   "language": "python",
   "name": "python3"
  },
  "language_info": {
   "codemirror_mode": {
    "name": "ipython",
    "version": 3
   },
   "file_extension": ".py",
   "mimetype": "text/x-python",
   "name": "python",
   "nbconvert_exporter": "python",
   "pygments_lexer": "ipython3",
   "version": "3.6.7"
  }
 },
 "nbformat": 4,
 "nbformat_minor": 2
}
