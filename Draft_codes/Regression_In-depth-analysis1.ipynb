{
 "cells": [
  {
   "cell_type": "markdown",
   "metadata": {},
   "source": [
    "In this analysis, we will use Machine learning techniques to build models that predict diabetes rates based on the features we previously selected."
   ]
  },
  {
   "cell_type": "code",
   "execution_count": 1,
   "metadata": {},
   "outputs": [],
   "source": [
    "import pandas as pd\n",
    "import numpy as np\n",
    "import matplotlib.pyplot as plt\n",
    "import seaborn as sns\n",
    "\n",
    "# Read dataframe. Missing values and outliers have been dealt with in this dataframe. \n",
    "df = pd.read_csv('data_atlas/counties_features_cleaned.csv')"
   ]
  },
  {
   "cell_type": "code",
   "execution_count": 2,
   "metadata": {},
   "outputs": [
    {
     "data": {
      "text/plain": [
       "(3143, 36)"
      ]
     },
     "execution_count": 2,
     "metadata": {},
     "output_type": "execute_result"
    }
   ],
   "source": [
    "df.shape"
   ]
  },
  {
   "cell_type": "code",
   "execution_count": 3,
   "metadata": {},
   "outputs": [
    {
     "data": {
      "text/html": [
       "<div>\n",
       "<style scoped>\n",
       "    .dataframe tbody tr th:only-of-type {\n",
       "        vertical-align: middle;\n",
       "    }\n",
       "\n",
       "    .dataframe tbody tr th {\n",
       "        vertical-align: top;\n",
       "    }\n",
       "\n",
       "    .dataframe thead th {\n",
       "        text-align: right;\n",
       "    }\n",
       "</style>\n",
       "<table border=\"1\" class=\"dataframe\">\n",
       "  <thead>\n",
       "    <tr style=\"text-align: right;\">\n",
       "      <th></th>\n",
       "      <th>Unnamed: 0</th>\n",
       "      <th>FIPS</th>\n",
       "      <th>State</th>\n",
       "      <th>County</th>\n",
       "      <th>PCT_DIABETES_ADULTS13</th>\n",
       "      <th>FSRPTH09</th>\n",
       "      <th>MEDHHINC15</th>\n",
       "      <th>PC_DIRSALES12</th>\n",
       "      <th>RECFACPTH09</th>\n",
       "      <th>SPECSPTH09</th>\n",
       "      <th>...</th>\n",
       "      <th>PCT_NSLP09</th>\n",
       "      <th>PCT_SNAP12</th>\n",
       "      <th>PCT_FREE_LUNCH09</th>\n",
       "      <th>PERPOV10</th>\n",
       "      <th>SUPERCPTH09</th>\n",
       "      <th>PCT_SBP09</th>\n",
       "      <th>SNAPSPTH12</th>\n",
       "      <th>POVRATE15</th>\n",
       "      <th>PCT_LACCESS_HHNV10</th>\n",
       "      <th>PCT_OBESE_ADULTS13</th>\n",
       "    </tr>\n",
       "  </thead>\n",
       "  <tbody>\n",
       "    <tr>\n",
       "      <th>0</th>\n",
       "      <td>0</td>\n",
       "      <td>1001</td>\n",
       "      <td>AL</td>\n",
       "      <td>Autauga</td>\n",
       "      <td>13.0</td>\n",
       "      <td>0.628059</td>\n",
       "      <td>56580.0</td>\n",
       "      <td>5.582238</td>\n",
       "      <td>0.073889</td>\n",
       "      <td>0.036945</td>\n",
       "      <td>...</td>\n",
       "      <td>12.315055</td>\n",
       "      <td>18.824675</td>\n",
       "      <td>32.006749</td>\n",
       "      <td>0</td>\n",
       "      <td>0.018472</td>\n",
       "      <td>4.509008</td>\n",
       "      <td>0.674004</td>\n",
       "      <td>12.7</td>\n",
       "      <td>3.284786</td>\n",
       "      <td>34.1</td>\n",
       "    </tr>\n",
       "    <tr>\n",
       "      <th>1</th>\n",
       "      <td>1</td>\n",
       "      <td>1003</td>\n",
       "      <td>AL</td>\n",
       "      <td>Baldwin</td>\n",
       "      <td>10.4</td>\n",
       "      <td>1.125938</td>\n",
       "      <td>52387.0</td>\n",
       "      <td>3.403433</td>\n",
       "      <td>0.100331</td>\n",
       "      <td>0.117053</td>\n",
       "      <td>...</td>\n",
       "      <td>12.315055</td>\n",
       "      <td>18.824675</td>\n",
       "      <td>33.216055</td>\n",
       "      <td>0</td>\n",
       "      <td>0.033444</td>\n",
       "      <td>4.509008</td>\n",
       "      <td>0.725055</td>\n",
       "      <td>12.9</td>\n",
       "      <td>2.147827</td>\n",
       "      <td>27.4</td>\n",
       "    </tr>\n",
       "    <tr>\n",
       "      <th>2</th>\n",
       "      <td>2</td>\n",
       "      <td>1005</td>\n",
       "      <td>AL</td>\n",
       "      <td>Barbour</td>\n",
       "      <td>15.5</td>\n",
       "      <td>0.433887</td>\n",
       "      <td>32620.0</td>\n",
       "      <td>0.478663</td>\n",
       "      <td>0.036157</td>\n",
       "      <td>0.072314</td>\n",
       "      <td>...</td>\n",
       "      <td>12.315055</td>\n",
       "      <td>18.824675</td>\n",
       "      <td>68.245839</td>\n",
       "      <td>1</td>\n",
       "      <td>0.000000</td>\n",
       "      <td>4.509008</td>\n",
       "      <td>1.280590</td>\n",
       "      <td>28.0</td>\n",
       "      <td>4.135869</td>\n",
       "      <td>38.0</td>\n",
       "    </tr>\n",
       "    <tr>\n",
       "      <th>3</th>\n",
       "      <td>3</td>\n",
       "      <td>1007</td>\n",
       "      <td>AL</td>\n",
       "      <td>Bibb</td>\n",
       "      <td>14.8</td>\n",
       "      <td>0.261540</td>\n",
       "      <td>40767.0</td>\n",
       "      <td>0.883314</td>\n",
       "      <td>0.043590</td>\n",
       "      <td>0.000000</td>\n",
       "      <td>...</td>\n",
       "      <td>12.315055</td>\n",
       "      <td>18.824675</td>\n",
       "      <td>50.278552</td>\n",
       "      <td>0</td>\n",
       "      <td>0.043590</td>\n",
       "      <td>4.509008</td>\n",
       "      <td>0.719122</td>\n",
       "      <td>22.2</td>\n",
       "      <td>3.458580</td>\n",
       "      <td>38.0</td>\n",
       "    </tr>\n",
       "    <tr>\n",
       "      <th>4</th>\n",
       "      <td>4</td>\n",
       "      <td>1009</td>\n",
       "      <td>AL</td>\n",
       "      <td>Blount</td>\n",
       "      <td>14.1</td>\n",
       "      <td>0.331351</td>\n",
       "      <td>50487.0</td>\n",
       "      <td>8.567571</td>\n",
       "      <td>0.052319</td>\n",
       "      <td>0.034879</td>\n",
       "      <td>...</td>\n",
       "      <td>12.315055</td>\n",
       "      <td>18.824675</td>\n",
       "      <td>39.681098</td>\n",
       "      <td>0</td>\n",
       "      <td>0.017440</td>\n",
       "      <td>4.509008</td>\n",
       "      <td>0.657144</td>\n",
       "      <td>14.7</td>\n",
       "      <td>3.269380</td>\n",
       "      <td>34.6</td>\n",
       "    </tr>\n",
       "  </tbody>\n",
       "</table>\n",
       "<p>5 rows × 36 columns</p>\n",
       "</div>"
      ],
      "text/plain": [
       "   Unnamed: 0  FIPS State   County  PCT_DIABETES_ADULTS13  FSRPTH09  \\\n",
       "0           0  1001    AL  Autauga                   13.0  0.628059   \n",
       "1           1  1003    AL  Baldwin                   10.4  1.125938   \n",
       "2           2  1005    AL  Barbour                   15.5  0.433887   \n",
       "3           3  1007    AL     Bibb                   14.8  0.261540   \n",
       "4           4  1009    AL   Blount                   14.1  0.331351   \n",
       "\n",
       "   MEDHHINC15  PC_DIRSALES12  RECFACPTH09  SPECSPTH09  ...  PCT_NSLP09  \\\n",
       "0     56580.0       5.582238     0.073889    0.036945  ...   12.315055   \n",
       "1     52387.0       3.403433     0.100331    0.117053  ...   12.315055   \n",
       "2     32620.0       0.478663     0.036157    0.072314  ...   12.315055   \n",
       "3     40767.0       0.883314     0.043590    0.000000  ...   12.315055   \n",
       "4     50487.0       8.567571     0.052319    0.034879  ...   12.315055   \n",
       "\n",
       "   PCT_SNAP12  PCT_FREE_LUNCH09  PERPOV10  SUPERCPTH09  PCT_SBP09  SNAPSPTH12  \\\n",
       "0   18.824675         32.006749         0     0.018472   4.509008    0.674004   \n",
       "1   18.824675         33.216055         0     0.033444   4.509008    0.725055   \n",
       "2   18.824675         68.245839         1     0.000000   4.509008    1.280590   \n",
       "3   18.824675         50.278552         0     0.043590   4.509008    0.719122   \n",
       "4   18.824675         39.681098         0     0.017440   4.509008    0.657144   \n",
       "\n",
       "   POVRATE15  PCT_LACCESS_HHNV10  PCT_OBESE_ADULTS13  \n",
       "0       12.7            3.284786                34.1  \n",
       "1       12.9            2.147827                27.4  \n",
       "2       28.0            4.135869                38.0  \n",
       "3       22.2            3.458580                38.0  \n",
       "4       14.7            3.269380                34.6  \n",
       "\n",
       "[5 rows x 36 columns]"
      ]
     },
     "execution_count": 3,
     "metadata": {},
     "output_type": "execute_result"
    }
   ],
   "source": [
    "df.head()"
   ]
  },
  {
   "cell_type": "code",
   "execution_count": 4,
   "metadata": {},
   "outputs": [
    {
     "data": {
      "text/plain": [
       "False"
      ]
     },
     "execution_count": 4,
     "metadata": {},
     "output_type": "execute_result"
    }
   ],
   "source": [
    "df.isnull().values.any() # Check if missing values have been dealt with "
   ]
  },
  {
   "cell_type": "code",
   "execution_count": 5,
   "metadata": {},
   "outputs": [
    {
     "data": {
      "image/png": "[encoded data removed]",
      "text/plain": [
       "<Figure size 864x864 with 2 Axes>"
      ]
     },
     "metadata": {
      "needs_background": "light"
     },
     "output_type": "display_data"
    }
   ],
   "source": [
    "# Re-visit the correlation matrix\n",
    "# The top row variable \"PCT_DIABETES_ADULTS13\" is our target variable.\n",
    "\n",
    "corr =df.iloc[:,2:-1].corr() # Remove state, county (categorical) and obesity (because it is health data and correlated with diabites)\n",
    "\n",
    "\n",
    "plt.figure(figsize=(12,12))\n",
    "ax = sns.heatmap(\n",
    "    corr,\n",
    "    vmin=-1, vmax=1, center=0,\n",
    "    cmap=sns.diverging_palette(20,220,n=200),\n",
    "    square=True)\n",
    "\n",
    "ax.set_xticklabels(\n",
    "    ax.get_xticklabels(),\n",
    "    rotation=45,\n",
    "    horizontalalignment='right')\n",
    "\n",
    "plt.show()"
   ]
  },
  {
   "cell_type": "markdown",
   "metadata": {},
   "source": [
    "### 1. Linear Regressions using statsmodel and sklearn\n",
    "\n",
    "#### 1) Use statsmodel: two features\n",
    "#### 2) Use sklearn: all features"
   ]
  },
  {
   "cell_type": "code",
   "execution_count": 6,
   "metadata": {},
   "outputs": [],
   "source": [
    "# Fit a linear regression model using statsmodel\n",
    "# Use two highly correlated variables :MEDHHINC15 (Medium household income in 2015) and POVRATE15 (poverty rate in 2015)\n",
    "import statsmodels.api as sm\n",
    "from statsmodels.formula.api import ols\n",
    "\n",
    "m1 = ols('PCT_DIABETES_ADULTS13~MEDHHINC15+POVRATE15',df).fit()"
   ]
  },
  {
   "cell_type": "code",
   "execution_count": 7,
   "metadata": {},
   "outputs": [
    {
     "name": "stdout",
     "output_type": "stream",
     "text": [
      "                              OLS Regression Results                             \n",
      "=================================================================================\n",
      "Dep. Variable:     PCT_DIABETES_ADULTS13   R-squared:                       0.358\n",
      "Model:                               OLS   Adj. R-squared:                  0.358\n",
      "Method:                    Least Squares   F-statistic:                     877.2\n",
      "Date:                   Thu, 09 Jan 2020   Prob (F-statistic):          2.31e-303\n",
      "Time:                           21:02:20   Log-Likelihood:                -6284.8\n",
      "No. Observations:                   3143   AIC:                         1.258e+04\n",
      "Df Residuals:                       3140   BIC:                         1.259e+04\n",
      "Df Model:                              2                                         \n",
      "Covariance Type:               nonrobust                                         \n",
      "==============================================================================\n",
      "                 coef    std err          t      P>|t|      [0.025      0.975]\n",
      "------------------------------------------------------------------------------\n",
      "Intercept     15.9720      0.423     37.775      0.000      15.143      16.801\n",
      "MEDHHINC15    -0.0001   5.63e-06    -19.746      0.000      -0.000      -0.000\n",
      "POVRATE15      0.0378      0.010      3.623      0.000       0.017       0.058\n",
      "==============================================================================\n",
      "Omnibus:                       30.296   Durbin-Watson:                   1.176\n",
      "Prob(Omnibus):                  0.000   Jarque-Bera (JB):               30.416\n",
      "Skew:                          -0.227   Prob(JB):                     2.48e-07\n",
      "Kurtosis:                       2.837   Cond. No.                     6.53e+05\n",
      "==============================================================================\n",
      "\n",
      "Warnings:\n",
      "[1] Standard Errors assume that the covariance matrix of the errors is correctly specified.\n",
      "[2] The condition number is large, 6.53e+05. This might indicate that there are\n",
      "strong multicollinearity or other numerical problems.\n"
     ]
    }
   ],
   "source": [
    "print(m1.summary())"
   ]
  },
  {
   "cell_type": "code",
   "execution_count": 8,
   "metadata": {},
   "outputs": [
    {
     "name": "stdout",
     "output_type": "stream",
     "text": [
      "R-squared 0.3580299338452809\n"
     ]
    }
   ],
   "source": [
    "print(\"R-squared\",m1.rsquared_adj)"
   ]
  },
  {
   "cell_type": "code",
   "execution_count": 9,
   "metadata": {},
   "outputs": [
    {
     "data": {
      "image/png": "[encoded data removed]",
      "text/plain": [
       "<Figure size 432x288 with 1 Axes>"
      ]
     },
     "metadata": {
      "needs_background": "light"
     },
     "output_type": "display_data"
    }
   ],
   "source": [
    "# Visualize fitted values by sm\n",
    "sns.regplot(x=df.PCT_DIABETES_ADULTS13,y=m1.fittedvalues,scatter_kws={'s':12})\n",
    "plt.xlabel('Diabetes Rate',fontsize=14)\n",
    "plt.ylabel('Predicted Diabetes Rate',fontsize=14)\n",
    "plt.xticks(fontsize=14)\n",
    "plt.yticks(fontsize=14)\n",
    "plt.title('Linear Regression using Statsmodels')\n",
    "plt.show()\n",
    "\n",
    "# The prediction is poor at the lowest and highest values"
   ]
  },
  {
   "cell_type": "code",
   "execution_count": 11,
   "metadata": {},
   "outputs": [],
   "source": [
    "# Fit a linear regression model with sklearn, using all features (remove FIPS, state, county, and obesity)\n",
    "from sklearn.linear_model import LinearRegression\n",
    "m2 = LinearRegression()"
   ]
  },
  {
   "cell_type": "code",
   "execution_count": 12,
   "metadata": {},
   "outputs": [],
   "source": [
    "X = df.iloc[:,5:-1] # Select features \n",
    "X = X.drop('PERPOV10',axis=1) # Drop the categorical variable 'persistant poverty counties'\n",
    "y = df.PCT_DIABETES_ADULTS13 # Target variable"
   ]
  },
  {
   "cell_type": "code",
   "execution_count": 13,
   "metadata": {},
   "outputs": [
    {
     "data": {
      "text/html": [
       "<div>\n",
       "<style scoped>\n",
       "    .dataframe tbody tr th:only-of-type {\n",
       "        vertical-align: middle;\n",
       "    }\n",
       "\n",
       "    .dataframe tbody tr th {\n",
       "        vertical-align: top;\n",
       "    }\n",
       "\n",
       "    .dataframe thead th {\n",
       "        text-align: right;\n",
       "    }\n",
       "</style>\n",
       "<table border=\"1\" class=\"dataframe\">\n",
       "  <thead>\n",
       "    <tr style=\"text-align: right;\">\n",
       "      <th></th>\n",
       "      <th>FSRPTH09</th>\n",
       "      <th>MEDHHINC15</th>\n",
       "      <th>PC_DIRSALES12</th>\n",
       "      <th>RECFACPTH09</th>\n",
       "      <th>SPECSPTH09</th>\n",
       "      <th>SODA_PRICE10</th>\n",
       "      <th>PCT_LOCLFARM12</th>\n",
       "      <th>GHVEG_FARMS12</th>\n",
       "      <th>PC_FSRSALES12</th>\n",
       "      <th>FMRKTPTH09</th>\n",
       "      <th>...</th>\n",
       "      <th>PC_FFRSALES12</th>\n",
       "      <th>FOODINSEC_10_12</th>\n",
       "      <th>PCT_NSLP09</th>\n",
       "      <th>PCT_SNAP12</th>\n",
       "      <th>PCT_FREE_LUNCH09</th>\n",
       "      <th>SUPERCPTH09</th>\n",
       "      <th>PCT_SBP09</th>\n",
       "      <th>SNAPSPTH12</th>\n",
       "      <th>POVRATE15</th>\n",
       "      <th>PCT_LACCESS_HHNV10</th>\n",
       "    </tr>\n",
       "  </thead>\n",
       "  <tbody>\n",
       "    <tr>\n",
       "      <th>0</th>\n",
       "      <td>0.628059</td>\n",
       "      <td>56580.0</td>\n",
       "      <td>5.582238</td>\n",
       "      <td>0.073889</td>\n",
       "      <td>0.036945</td>\n",
       "      <td>0.972216</td>\n",
       "      <td>13.110540</td>\n",
       "      <td>0.0</td>\n",
       "      <td>512.280987</td>\n",
       "      <td>0.039404</td>\n",
       "      <td>...</td>\n",
       "      <td>674.80272</td>\n",
       "      <td>17.9</td>\n",
       "      <td>12.315055</td>\n",
       "      <td>18.824675</td>\n",
       "      <td>32.006749</td>\n",
       "      <td>0.018472</td>\n",
       "      <td>4.509008</td>\n",
       "      <td>0.674004</td>\n",
       "      <td>12.7</td>\n",
       "      <td>3.284786</td>\n",
       "    </tr>\n",
       "    <tr>\n",
       "      <th>1</th>\n",
       "      <td>1.125938</td>\n",
       "      <td>52387.0</td>\n",
       "      <td>3.403433</td>\n",
       "      <td>0.100331</td>\n",
       "      <td>0.117053</td>\n",
       "      <td>1.001391</td>\n",
       "      <td>10.414560</td>\n",
       "      <td>4.0</td>\n",
       "      <td>512.280987</td>\n",
       "      <td>0.022237</td>\n",
       "      <td>...</td>\n",
       "      <td>674.80272</td>\n",
       "      <td>17.9</td>\n",
       "      <td>12.315055</td>\n",
       "      <td>18.824675</td>\n",
       "      <td>33.216055</td>\n",
       "      <td>0.033444</td>\n",
       "      <td>4.509008</td>\n",
       "      <td>0.725055</td>\n",
       "      <td>12.9</td>\n",
       "      <td>2.147827</td>\n",
       "    </tr>\n",
       "    <tr>\n",
       "      <th>2</th>\n",
       "      <td>0.433887</td>\n",
       "      <td>32620.0</td>\n",
       "      <td>0.478663</td>\n",
       "      <td>0.036157</td>\n",
       "      <td>0.072314</td>\n",
       "      <td>0.992584</td>\n",
       "      <td>2.276708</td>\n",
       "      <td>0.0</td>\n",
       "      <td>512.280987</td>\n",
       "      <td>0.067256</td>\n",
       "      <td>...</td>\n",
       "      <td>674.80272</td>\n",
       "      <td>17.9</td>\n",
       "      <td>12.315055</td>\n",
       "      <td>18.824675</td>\n",
       "      <td>68.245839</td>\n",
       "      <td>0.000000</td>\n",
       "      <td>4.509008</td>\n",
       "      <td>1.280590</td>\n",
       "      <td>28.0</td>\n",
       "      <td>4.135869</td>\n",
       "    </tr>\n",
       "    <tr>\n",
       "      <th>3</th>\n",
       "      <td>0.261540</td>\n",
       "      <td>40767.0</td>\n",
       "      <td>0.883314</td>\n",
       "      <td>0.043590</td>\n",
       "      <td>0.000000</td>\n",
       "      <td>0.972216</td>\n",
       "      <td>6.878307</td>\n",
       "      <td>2.0</td>\n",
       "      <td>512.280987</td>\n",
       "      <td>0.046324</td>\n",
       "      <td>...</td>\n",
       "      <td>674.80272</td>\n",
       "      <td>17.9</td>\n",
       "      <td>12.315055</td>\n",
       "      <td>18.824675</td>\n",
       "      <td>50.278552</td>\n",
       "      <td>0.043590</td>\n",
       "      <td>4.509008</td>\n",
       "      <td>0.719122</td>\n",
       "      <td>22.2</td>\n",
       "      <td>3.458580</td>\n",
       "    </tr>\n",
       "    <tr>\n",
       "      <th>4</th>\n",
       "      <td>0.331351</td>\n",
       "      <td>50487.0</td>\n",
       "      <td>8.567571</td>\n",
       "      <td>0.052319</td>\n",
       "      <td>0.034879</td>\n",
       "      <td>0.972216</td>\n",
       "      <td>7.091056</td>\n",
       "      <td>0.0</td>\n",
       "      <td>512.280987</td>\n",
       "      <td>0.017139</td>\n",
       "      <td>...</td>\n",
       "      <td>674.80272</td>\n",
       "      <td>17.9</td>\n",
       "      <td>12.315055</td>\n",
       "      <td>18.824675</td>\n",
       "      <td>39.681098</td>\n",
       "      <td>0.017440</td>\n",
       "      <td>4.509008</td>\n",
       "      <td>0.657144</td>\n",
       "      <td>14.7</td>\n",
       "      <td>3.269380</td>\n",
       "    </tr>\n",
       "  </tbody>\n",
       "</table>\n",
       "<p>5 rows × 29 columns</p>\n",
       "</div>"
      ],
      "text/plain": [
       "   FSRPTH09  MEDHHINC15  PC_DIRSALES12  RECFACPTH09  SPECSPTH09  SODA_PRICE10  \\\n",
       "0  0.628059     56580.0       5.582238     0.073889    0.036945      0.972216   \n",
       "1  1.125938     52387.0       3.403433     0.100331    0.117053      1.001391   \n",
       "2  0.433887     32620.0       0.478663     0.036157    0.072314      0.992584   \n",
       "3  0.261540     40767.0       0.883314     0.043590    0.000000      0.972216   \n",
       "4  0.331351     50487.0       8.567571     0.052319    0.034879      0.972216   \n",
       "\n",
       "   PCT_LOCLFARM12  GHVEG_FARMS12  PC_FSRSALES12  FMRKTPTH09  ...  \\\n",
       "0       13.110540            0.0     512.280987    0.039404  ...   \n",
       "1       10.414560            4.0     512.280987    0.022237  ...   \n",
       "2        2.276708            0.0     512.280987    0.067256  ...   \n",
       "3        6.878307            2.0     512.280987    0.046324  ...   \n",
       "4        7.091056            0.0     512.280987    0.017139  ...   \n",
       "\n",
       "   PC_FFRSALES12  FOODINSEC_10_12  PCT_NSLP09  PCT_SNAP12  PCT_FREE_LUNCH09  \\\n",
       "0      674.80272             17.9   12.315055   18.824675         32.006749   \n",
       "1      674.80272             17.9   12.315055   18.824675         33.216055   \n",
       "2      674.80272             17.9   12.315055   18.824675         68.245839   \n",
       "3      674.80272             17.9   12.315055   18.824675         50.278552   \n",
       "4      674.80272             17.9   12.315055   18.824675         39.681098   \n",
       "\n",
       "   SUPERCPTH09  PCT_SBP09  SNAPSPTH12  POVRATE15  PCT_LACCESS_HHNV10  \n",
       "0     0.018472   4.509008    0.674004       12.7            3.284786  \n",
       "1     0.033444   4.509008    0.725055       12.9            2.147827  \n",
       "2     0.000000   4.509008    1.280590       28.0            4.135869  \n",
       "3     0.043590   4.509008    0.719122       22.2            3.458580  \n",
       "4     0.017440   4.509008    0.657144       14.7            3.269380  \n",
       "\n",
       "[5 rows x 29 columns]"
      ]
     },
     "execution_count": 13,
     "metadata": {},
     "output_type": "execute_result"
    }
   ],
   "source": [
    "X.head()"
   ]
  },
  {
   "cell_type": "code",
   "execution_count": 14,
   "metadata": {},
   "outputs": [
    {
     "data": {
      "text/plain": [
       "(3143, 29)"
      ]
     },
     "execution_count": 14,
     "metadata": {},
     "output_type": "execute_result"
    }
   ],
   "source": [
    "X.shape"
   ]
  },
  {
   "cell_type": "code",
   "execution_count": 16,
   "metadata": {},
   "outputs": [
    {
     "data": {
      "text/plain": [
       "LinearRegression(copy_X=True, fit_intercept=True, n_jobs=None, normalize=False)"
      ]
     },
     "execution_count": 16,
     "metadata": {},
     "output_type": "execute_result"
    }
   ],
   "source": [
    "# Split data\n",
    "from sklearn.model_selection import train_test_split\n",
    "X_train, X_test, y_train, y_test = train_test_split(X, y, test_size=0.4, random_state=21)\n",
    "\n",
    "# Fit model with training data\n",
    "m2.fit(X_train,y_train)"
   ]
  },
  {
   "cell_type": "code",
   "execution_count": 17,
   "metadata": {},
   "outputs": [
    {
     "name": "stdout",
     "output_type": "stream",
     "text": [
      "R-squared of training data: 0.6211213782090819\n"
     ]
    }
   ],
   "source": [
    "print('R-squared of training data:',m2.score(X_train,y_train))"
   ]
  },
  {
   "cell_type": "code",
   "execution_count": 19,
   "metadata": {},
   "outputs": [
    {
     "name": "stdout",
     "output_type": "stream",
     "text": [
      "R-squared of test data: 0.621781126175162\n"
     ]
    }
   ],
   "source": [
    "print('R-squared of test data:',m2.score(X_test,y_test))"
   ]
  },
  {
   "cell_type": "markdown",
   "metadata": {},
   "source": [
    "**Summary:** The R-squared of training data (0.621) is very close to testing data (0.622), so the model is unlikely to be overfitting.  \n",
    "However, it is a bit unusual that the testing data resulted in slightly higher R-squared than training data. What could be underlying reasons?  \n",
    "Could the model be underfitting?"
   ]
  },
  {
   "cell_type": "code",
   "execution_count": 18,
   "metadata": {},
   "outputs": [
    {
     "data": {
      "text/html": [
       "<div>\n",
       "<style scoped>\n",
       "    .dataframe tbody tr th:only-of-type {\n",
       "        vertical-align: middle;\n",
       "    }\n",
       "\n",
       "    .dataframe tbody tr th {\n",
       "        vertical-align: top;\n",
       "    }\n",
       "\n",
       "    .dataframe thead th {\n",
       "        text-align: right;\n",
       "    }\n",
       "</style>\n",
       "<table border=\"1\" class=\"dataframe\">\n",
       "  <thead>\n",
       "    <tr style=\"text-align: right;\">\n",
       "      <th></th>\n",
       "      <th>features</th>\n",
       "      <th>estimatedCoefficients</th>\n",
       "    </tr>\n",
       "  </thead>\n",
       "  <tbody>\n",
       "    <tr>\n",
       "      <th>0</th>\n",
       "      <td>FSRPTH09</td>\n",
       "      <td>-6.286096e-01</td>\n",
       "    </tr>\n",
       "    <tr>\n",
       "      <th>1</th>\n",
       "      <td>MEDHHINC15</td>\n",
       "      <td>-8.028903e-05</td>\n",
       "    </tr>\n",
       "    <tr>\n",
       "      <th>2</th>\n",
       "      <td>PC_DIRSALES12</td>\n",
       "      <td>-1.206240e-02</td>\n",
       "    </tr>\n",
       "    <tr>\n",
       "      <th>3</th>\n",
       "      <td>RECFACPTH09</td>\n",
       "      <td>-5.245828e-01</td>\n",
       "    </tr>\n",
       "    <tr>\n",
       "      <th>4</th>\n",
       "      <td>SPECSPTH09</td>\n",
       "      <td>-1.946707e+00</td>\n",
       "    </tr>\n",
       "    <tr>\n",
       "      <th>5</th>\n",
       "      <td>SODA_PRICE10</td>\n",
       "      <td>-2.187897e+00</td>\n",
       "    </tr>\n",
       "    <tr>\n",
       "      <th>6</th>\n",
       "      <td>PCT_LOCLFARM12</td>\n",
       "      <td>-1.738157e-03</td>\n",
       "    </tr>\n",
       "    <tr>\n",
       "      <th>7</th>\n",
       "      <td>GHVEG_FARMS12</td>\n",
       "      <td>-2.181945e-02</td>\n",
       "    </tr>\n",
       "    <tr>\n",
       "      <th>8</th>\n",
       "      <td>PC_FSRSALES12</td>\n",
       "      <td>-3.456127e-03</td>\n",
       "    </tr>\n",
       "    <tr>\n",
       "      <th>9</th>\n",
       "      <td>FMRKTPTH09</td>\n",
       "      <td>8.750880e-01</td>\n",
       "    </tr>\n",
       "    <tr>\n",
       "      <th>10</th>\n",
       "      <td>GROCPTH09</td>\n",
       "      <td>-9.292749e-02</td>\n",
       "    </tr>\n",
       "    <tr>\n",
       "      <th>11</th>\n",
       "      <td>CSA12</td>\n",
       "      <td>-5.296979e-02</td>\n",
       "    </tr>\n",
       "    <tr>\n",
       "      <th>12</th>\n",
       "      <td>FARM_TO_SCHOOL13</td>\n",
       "      <td>-1.218919e-01</td>\n",
       "    </tr>\n",
       "    <tr>\n",
       "      <th>13</th>\n",
       "      <td>PCT_LACCESS_POP10</td>\n",
       "      <td>-1.234829e-02</td>\n",
       "    </tr>\n",
       "    <tr>\n",
       "      <th>14</th>\n",
       "      <td>FOODHUB16</td>\n",
       "      <td>-8.953921e-12</td>\n",
       "    </tr>\n",
       "    <tr>\n",
       "      <th>15</th>\n",
       "      <td>VEG_FARMS12</td>\n",
       "      <td>-1.610057e-02</td>\n",
       "    </tr>\n",
       "    <tr>\n",
       "      <th>16</th>\n",
       "      <td>FRESHVEG_FARMS12</td>\n",
       "      <td>1.995517e-02</td>\n",
       "    </tr>\n",
       "    <tr>\n",
       "      <th>17</th>\n",
       "      <td>CONVSPTH09</td>\n",
       "      <td>2.716063e-01</td>\n",
       "    </tr>\n",
       "    <tr>\n",
       "      <th>18</th>\n",
       "      <td>MILK_SODA_PRICE10</td>\n",
       "      <td>3.707026e+00</td>\n",
       "    </tr>\n",
       "    <tr>\n",
       "      <th>19</th>\n",
       "      <td>PC_FFRSALES12</td>\n",
       "      <td>4.719136e-03</td>\n",
       "    </tr>\n",
       "    <tr>\n",
       "      <th>20</th>\n",
       "      <td>FOODINSEC_10_12</td>\n",
       "      <td>8.270730e-03</td>\n",
       "    </tr>\n",
       "    <tr>\n",
       "      <th>21</th>\n",
       "      <td>PCT_NSLP09</td>\n",
       "      <td>8.581016e-02</td>\n",
       "    </tr>\n",
       "    <tr>\n",
       "      <th>22</th>\n",
       "      <td>PCT_SNAP12</td>\n",
       "      <td>2.132141e-01</td>\n",
       "    </tr>\n",
       "    <tr>\n",
       "      <th>23</th>\n",
       "      <td>PCT_FREE_LUNCH09</td>\n",
       "      <td>2.246323e-02</td>\n",
       "    </tr>\n",
       "    <tr>\n",
       "      <th>24</th>\n",
       "      <td>SUPERCPTH09</td>\n",
       "      <td>-1.076037e+00</td>\n",
       "    </tr>\n",
       "    <tr>\n",
       "      <th>25</th>\n",
       "      <td>PCT_SBP09</td>\n",
       "      <td>-5.825360e-01</td>\n",
       "    </tr>\n",
       "    <tr>\n",
       "      <th>26</th>\n",
       "      <td>SNAPSPTH12</td>\n",
       "      <td>4.839548e-01</td>\n",
       "    </tr>\n",
       "    <tr>\n",
       "      <th>27</th>\n",
       "      <td>POVRATE15</td>\n",
       "      <td>-1.209526e-01</td>\n",
       "    </tr>\n",
       "    <tr>\n",
       "      <th>28</th>\n",
       "      <td>PCT_LACCESS_HHNV10</td>\n",
       "      <td>2.174576e-01</td>\n",
       "    </tr>\n",
       "  </tbody>\n",
       "</table>\n",
       "</div>"
      ],
      "text/plain": [
       "              features  estimatedCoefficients\n",
       "0             FSRPTH09          -6.286096e-01\n",
       "1           MEDHHINC15          -8.028903e-05\n",
       "2        PC_DIRSALES12          -1.206240e-02\n",
       "3          RECFACPTH09          -5.245828e-01\n",
       "4           SPECSPTH09          -1.946707e+00\n",
       "5         SODA_PRICE10          -2.187897e+00\n",
       "6       PCT_LOCLFARM12          -1.738157e-03\n",
       "7        GHVEG_FARMS12          -2.181945e-02\n",
       "8        PC_FSRSALES12          -3.456127e-03\n",
       "9           FMRKTPTH09           8.750880e-01\n",
       "10           GROCPTH09          -9.292749e-02\n",
       "11               CSA12          -5.296979e-02\n",
       "12    FARM_TO_SCHOOL13          -1.218919e-01\n",
       "13   PCT_LACCESS_POP10          -1.234829e-02\n",
       "14           FOODHUB16          -8.953921e-12\n",
       "15         VEG_FARMS12          -1.610057e-02\n",
       "16    FRESHVEG_FARMS12           1.995517e-02\n",
       "17          CONVSPTH09           2.716063e-01\n",
       "18   MILK_SODA_PRICE10           3.707026e+00\n",
       "19       PC_FFRSALES12           4.719136e-03\n",
       "20     FOODINSEC_10_12           8.270730e-03\n",
       "21          PCT_NSLP09           8.581016e-02\n",
       "22          PCT_SNAP12           2.132141e-01\n",
       "23    PCT_FREE_LUNCH09           2.246323e-02\n",
       "24         SUPERCPTH09          -1.076037e+00\n",
       "25           PCT_SBP09          -5.825360e-01\n",
       "26          SNAPSPTH12           4.839548e-01\n",
       "27           POVRATE15          -1.209526e-01\n",
       "28  PCT_LACCESS_HHNV10           2.174576e-01"
      ]
     },
     "execution_count": 18,
     "metadata": {},
     "output_type": "execute_result"
    }
   ],
   "source": [
    "# Get the coefficients\n",
    "pd.DataFrame({'features': X.columns, 'estimatedCoefficients': m2.coef_})[['features', 'estimatedCoefficients']]"
   ]
  },
  {
   "cell_type": "code",
   "execution_count": 19,
   "metadata": {},
   "outputs": [
    {
     "data": {
      "image/png": "[encoded data removed]",
      "text/plain": [
       "<Figure size 432x288 with 1 Axes>"
      ]
     },
     "metadata": {
      "needs_background": "light"
     },
     "output_type": "display_data"
    }
   ],
   "source": [
    "##### Visualize fitted values by sklearn\n",
    "sns.regplot(x=df.PCT_DIABETES_ADULTS13,y=m2.predict(X),scatter_kws={'s':12})\n",
    "plt.xlabel('Diabetes Rate',fontsize=14)\n",
    "plt.ylabel('Predicted Diabetes Rate',fontsize=14)\n",
    "plt.xticks(fontsize=14)\n",
    "plt.yticks(fontsize=14)\n",
    "plt.title('Linear Regression using sklearn')\n",
    "plt.show()"
   ]
  },
  {
   "cell_type": "code",
   "execution_count": 10,
   "metadata": {
    "scrolled": true
   },
   "outputs": [
    {
     "ename": "NameError",
     "evalue": "name 'y' is not defined",
     "output_type": "error",
     "traceback": [
      "\u001b[0;31m---------------------------------------------------------------------------\u001b[0m",
      "\u001b[0;31mNameError\u001b[0m                                 Traceback (most recent call last)",
      "\u001b[0;32m<ipython-input-10-eb481862c7b5>\u001b[0m in \u001b[0;36m<module>\u001b[0;34m\u001b[0m\n\u001b[1;32m      1\u001b[0m \u001b[0;31m# Check model assumptions\u001b[0m\u001b[0;34m\u001b[0m\u001b[0;34m\u001b[0m\u001b[0;34m\u001b[0m\u001b[0m\n\u001b[1;32m      2\u001b[0m \u001b[0;31m# 1) Fitted value vs. residuals plot\u001b[0m\u001b[0;34m\u001b[0m\u001b[0;34m\u001b[0m\u001b[0;34m\u001b[0m\u001b[0m\n\u001b[0;32m----> 3\u001b[0;31m \u001b[0mresid\u001b[0m \u001b[0;34m=\u001b[0m \u001b[0my\u001b[0m \u001b[0;34m-\u001b[0m \u001b[0mm1\u001b[0m\u001b[0;34m.\u001b[0m\u001b[0mpredict\u001b[0m\u001b[0;34m(\u001b[0m\u001b[0mX\u001b[0m\u001b[0;34m)\u001b[0m\u001b[0;34m\u001b[0m\u001b[0;34m\u001b[0m\u001b[0m\n\u001b[0m\u001b[1;32m      4\u001b[0m \u001b[0m_\u001b[0m \u001b[0;34m=\u001b[0m \u001b[0msns\u001b[0m\u001b[0;34m.\u001b[0m\u001b[0mregplot\u001b[0m\u001b[0;34m(\u001b[0m\u001b[0mx\u001b[0m\u001b[0;34m=\u001b[0m\u001b[0mm1\u001b[0m\u001b[0;34m.\u001b[0m\u001b[0mpredict\u001b[0m\u001b[0;34m(\u001b[0m\u001b[0mX\u001b[0m\u001b[0;34m)\u001b[0m\u001b[0;34m,\u001b[0m\u001b[0my\u001b[0m\u001b[0;34m=\u001b[0m\u001b[0mresid\u001b[0m\u001b[0;34m,\u001b[0m\u001b[0mfit_reg\u001b[0m\u001b[0;34m=\u001b[0m\u001b[0;32mFalse\u001b[0m\u001b[0;34m,\u001b[0m\u001b[0mscatter_kws\u001b[0m\u001b[0;34m=\u001b[0m\u001b[0;34m{\u001b[0m\u001b[0;34m's'\u001b[0m\u001b[0;34m:\u001b[0m\u001b[0;36m12\u001b[0m\u001b[0;34m}\u001b[0m\u001b[0;34m)\u001b[0m\u001b[0;34m\u001b[0m\u001b[0;34m\u001b[0m\u001b[0m\n\u001b[1;32m      5\u001b[0m \u001b[0m_\u001b[0m \u001b[0;34m=\u001b[0m \u001b[0mplt\u001b[0m\u001b[0;34m.\u001b[0m\u001b[0mxlabel\u001b[0m\u001b[0;34m(\u001b[0m\u001b[0;34m'Fitted values'\u001b[0m\u001b[0;34m,\u001b[0m\u001b[0mfontsize\u001b[0m\u001b[0;34m=\u001b[0m\u001b[0;36m14\u001b[0m\u001b[0;34m)\u001b[0m\u001b[0;34m\u001b[0m\u001b[0;34m\u001b[0m\u001b[0m\n",
      "\u001b[0;31mNameError\u001b[0m: name 'y' is not defined"
     ]
    }
   ],
   "source": [
    "# Check model assumptions\n",
    "# 1) Fitted value vs. residuals plot\n",
    "resid = y - m2.predict(X)\n",
    "_ = sns.regplot(x=m2.predict(X),y=resid,fit_reg=False,scatter_kws={'s':12})\n",
    "_ = plt.xlabel('Fitted values',fontsize=14)\n",
    "_ = plt.ylabel('Residuals',fontsize=14)\n",
    "_ = plt.xticks(fontsize=14)\n",
    "_ = plt.yticks(fontsize=14)\n"
   ]
  },
  {
   "cell_type": "code",
   "execution_count": 21,
   "metadata": {},
   "outputs": [
    {
     "data": {
      "image/png": "[encoded data removed]",
      "text/plain": [
       "<Figure size 432x288 with 1 Axes>"
      ]
     },
     "metadata": {
      "needs_background": "light"
     },
     "output_type": "display_data"
    }
   ],
   "source": [
    "# 2): Quantile plot of the residuals\n",
    "import scipy.stats as stats\n",
    "fig = sm.qqplot(resid, stats.t, fit=True, line='45')"
   ]
  },
  {
   "cell_type": "markdown",
   "metadata": {},
   "source": [
    "**Summary:**  1) Using two highly correlated features (medium household income and poverty rate) and statsmodels, we obtained a R-squared of 0.36  \n",
    "2) Using all features and sklearn's LinearRegresson() regressor, we obtained a R-squared of 0.62 for both training and testing data sets.   \n",
    "\n",
    "We will continue to use more complex models such as Decision Trees. "
   ]
  },
  {
   "cell_type": "markdown",
   "metadata": {},
   "source": [
    "### 2. Decision Tree Regression"
   ]
  },
  {
   "cell_type": "code",
   "execution_count": 46,
   "metadata": {},
   "outputs": [],
   "source": [
    "from sklearn.tree import DecisionTreeRegressor\n",
    "from sklearn.metrics import accuracy_score\n",
    "from sklearn.model_selection import GridSearchCV, cross_val_score"
   ]
  },
  {
   "cell_type": "code",
   "execution_count": 21,
   "metadata": {},
   "outputs": [],
   "source": [
    "X = df.iloc[:,5:-1] # Select features. Retained the categorizal feature \"persistant poverty county\"\n",
    "y = df.PCT_DIABETES_ADULTS13 # Target variable\n",
    "\n",
    "# Split data\n",
    "X_train, X_test, y_train, y_test = train_test_split(X, y, test_size=0.4, random_state=21)\n"
   ]
  },
  {
   "cell_type": "code",
   "execution_count": 73,
   "metadata": {},
   "outputs": [
    {
     "name": "stdout",
     "output_type": "stream",
     "text": [
      "Training data R-squared: 1.0\n",
      "Testing data R-squared: 0.36991524504858636\n"
     ]
    }
   ],
   "source": [
    "# First fit a decision tree with default parameters\n",
    "tree = DecisionTreeRegressor(random_state=21)\n",
    "tree.fit(X_train,y_train)\n",
    "print('Training data R-squared:',tree_default.score(X_train,y_train))\n",
    "print('Testing data R-squared:',tree_default.score(X_test,y_test))"
   ]
  },
  {
   "cell_type": "markdown",
   "metadata": {},
   "source": [
    "Model is overfitting. Next let us tune model parameters using GridSearchCV"
   ]
  },
  {
   "cell_type": "code",
   "execution_count": 90,
   "metadata": {},
   "outputs": [
    {
     "name": "stderr",
     "output_type": "stream",
     "text": [
      "/Users/Sabrina/anaconda3/lib/python3.6/site-packages/sklearn/model_selection/_split.py:1978: FutureWarning: The default value of cv will change from 3 to 5 in version 0.22. Specify it explicitly to silence this warning.\n",
      "  warnings.warn(CV_WARNING, FutureWarning)\n"
     ]
    },
    {
     "data": {
      "text/plain": [
       "GridSearchCV(cv='warn', error_score='raise-deprecating',\n",
       "             estimator=DecisionTreeRegressor(criterion='mse', max_depth=None,\n",
       "                                             max_features=None,\n",
       "                                             max_leaf_nodes=None,\n",
       "                                             min_impurity_decrease=0.0,\n",
       "                                             min_impurity_split=None,\n",
       "                                             min_samples_leaf=1,\n",
       "                                             min_samples_split=2,\n",
       "                                             min_weight_fraction_leaf=0.0,\n",
       "                                             presort=False, random_state=21,\n",
       "                                             splitter='best'),\n",
       "             iid='warn', n_jobs=None,\n",
       "             param_grid={'max_depth': [3, 4, 5],\n",
       "                         'max_features': [3, 4, 5, 6, 7, 8, 9, 10, 11, 12],\n",
       "                         'min_samples_leaf': [1, 2, 3, 4, 5, 6, 7, 8, 9, 10, 11,\n",
       "                                              12, 13, 14, 15, 16, 17, 18, 19,\n",
       "                                              20],\n",
       "                         'min_samples_split': [10, 20, 30, 40, 50]},\n",
       "             pre_dispatch='2*n_jobs', refit=True, return_train_score=False,\n",
       "             scoring=None, verbose=0)"
      ]
     },
     "execution_count": 90,
     "metadata": {},
     "output_type": "execute_result"
    }
   ],
   "source": [
    "#criterion = ['gini','entropy']\n",
    "max_depth = [3,4,5]\n",
    "min_samples_split = list(range(10,51,10))\n",
    "min_samples_leaf = list(range(1,21,1))\n",
    "max_features = [3,4,5,6,7,8,9,10,11,12]\n",
    "\n",
    "parameters = {#'criterion':criterion,\n",
    "             'max_depth':max_depth,\n",
    "             'min_samples_split':min_samples_split,\n",
    "             'min_samples_leaf':min_samples_leaf,\n",
    "             'max_features':max_features}\n",
    "\n",
    "clf = GridSearchCV(tree,parameters)\n",
    "clf.fit(X_train,y_train)"
   ]
  },
  {
   "cell_type": "code",
   "execution_count": 91,
   "metadata": {
    "scrolled": true
   },
   "outputs": [
    {
     "name": "stdout",
     "output_type": "stream",
     "text": [
      "{'criterion': 'mse', 'max_depth': 5, 'max_features': 11, 'max_leaf_nodes': None, 'min_impurity_decrease': 0.0, 'min_impurity_split': None, 'min_samples_leaf': 9, 'min_samples_split': 10, 'min_weight_fraction_leaf': 0.0, 'presort': False, 'random_state': 21, 'splitter': 'best'}\n"
     ]
    }
   ],
   "source": [
    "# Print best parameters\n",
    "print(clf.best_estimator_.get_params())"
   ]
  },
  {
   "cell_type": "code",
   "execution_count": 84,
   "metadata": {},
   "outputs": [
    {
     "name": "stderr",
     "output_type": "stream",
     "text": [
      "/Users/Sabrina/anaconda3/lib/python3.6/site-packages/sklearn/model_selection/_split.py:1978: FutureWarning: The default value of cv will change from 3 to 5 in version 0.22. Specify it explicitly to silence this warning.\n",
      "  warnings.warn(CV_WARNING, FutureWarning)\n",
      "/Users/Sabrina/anaconda3/lib/python3.6/site-packages/sklearn/model_selection/_split.py:1978: FutureWarning: The default value of cv will change from 3 to 5 in version 0.22. Specify it explicitly to silence this warning.\n",
      "  warnings.warn(CV_WARNING, FutureWarning)\n",
      "/Users/Sabrina/anaconda3/lib/python3.6/site-packages/sklearn/model_selection/_split.py:1978: FutureWarning: The default value of cv will change from 3 to 5 in version 0.22. Specify it explicitly to silence this warning.\n",
      "  warnings.warn(CV_WARNING, FutureWarning)\n"
     ]
    },
    {
     "name": "stdout",
     "output_type": "stream",
     "text": [
      "[0.54443461 0.5046851  0.54061117]\n"
     ]
    }
   ],
   "source": [
    "# Print cross-validation scores\n",
    "print(cross_val_score(clf, X_train,y_train))"
   ]
  },
  {
   "cell_type": "code",
   "execution_count": 92,
   "metadata": {},
   "outputs": [
    {
     "name": "stdout",
     "output_type": "stream",
     "text": [
      "Training data R-squared: 0.6104037768677517\n",
      "Testing data R-squared: 0.5469344725829726\n"
     ]
    }
   ],
   "source": [
    "print('Training data R-squared:',clf.score(X_train,y_train))\n",
    "print('Testing data R-squared:',clf.score(X_test,y_test))"
   ]
  },
  {
   "cell_type": "markdown",
   "metadata": {},
   "source": [
    "### Question\n",
    "Model still a bit overfitting. Any other parameters worth tuning? "
   ]
  },
  {
   "cell_type": "code",
   "execution_count": 100,
   "metadata": {},
   "outputs": [
    {
     "data": {
      "text/plain": [
       "DecisionTreeRegressor(criterion='mse', max_depth=5, max_features=11,\n",
       "                      max_leaf_nodes=None, min_impurity_decrease=0.0,\n",
       "                      min_impurity_split=None, min_samples_leaf=9,\n",
       "                      min_samples_split=10, min_weight_fraction_leaf=0.0,\n",
       "                      presort=False, random_state=21, splitter='best')"
      ]
     },
     "execution_count": 100,
     "metadata": {},
     "output_type": "execute_result"
    }
   ],
   "source": [
    "tree_best = DecisionTreeRegressor(max_depth= 5, max_features=11,min_samples_leaf= 9, min_samples_split= 10,\n",
    "                                 random_state=21)\n",
    "tree_best.fit(X_train,y_train)"
   ]
  },
  {
   "cell_type": "code",
   "execution_count": 101,
   "metadata": {},
   "outputs": [],
   "source": [
    "from sklearn.tree import export_graphviz\n",
    "\n",
    "export_graphviz(tree_best, out_file='tree_gridsearch.dot',\n",
    "               feature_names = X.columns)\n",
    "\n"
   ]
  },
  {
   "cell_type": "code",
   "execution_count": 102,
   "metadata": {},
   "outputs": [
    {
     "data": {
      "text/plain": [
       "0"
      ]
     },
     "execution_count": 102,
     "metadata": {},
     "output_type": "execute_result"
    }
   ],
   "source": [
    "from subprocess import call\n",
    "\n",
    "call(['dot', '-T', 'png', 'tree_gridsearch.dot', '-o', 'tree_gridsearch.png'])"
   ]
  },
  {
   "cell_type": "markdown",
   "metadata": {},
   "source": [
    "<img src=\"tree.png\">"
   ]
  },
  {
   "cell_type": "markdown",
   "metadata": {},
   "source": [
    "Based on the tree, **medium household income (MEDHHINC15)** is the root node with most information gain. Followed by seven other features:  \n",
    "     - PCT_SNAP12: SNAP-authorized stores/1000 pop 2012 \n",
    "     - SODA_PRICES10: Price of sodas/national average 2010 \n",
    "     - PC_FSRSALES12: Farms with direct sales (%) 2012 \n",
    "     - PCT_FREE_LUNCH09: Students eligible for free lunch (%) 2009 \n",
    "     - PCT_LACCESS_HHNV10: Households,no car & low access to store (%) 2010 \n",
    "     - PTC_SBP09: School Breakfast Program participants (% pop), 2009\n",
    "     - PCT_NSLP09: National school lunch program participants (% pop), 2009"
   ]
  },
  {
   "cell_type": "markdown",
   "metadata": {},
   "source": [
    "However, we note that soda price (SODA_PRICES10) is a ratio and have small small variance. This might contribute to it being selected in the model. We will build the model without it."
   ]
  },
  {
   "cell_type": "code",
   "execution_count": 29,
   "metadata": {},
   "outputs": [
    {
     "data": {
      "text/html": [
       "<div>\n",
       "<style scoped>\n",
       "    .dataframe tbody tr th:only-of-type {\n",
       "        vertical-align: middle;\n",
       "    }\n",
       "\n",
       "    .dataframe tbody tr th {\n",
       "        vertical-align: top;\n",
       "    }\n",
       "\n",
       "    .dataframe thead th {\n",
       "        text-align: right;\n",
       "    }\n",
       "</style>\n",
       "<table border=\"1\" class=\"dataframe\">\n",
       "  <thead>\n",
       "    <tr style=\"text-align: right;\">\n",
       "      <th></th>\n",
       "      <th>Unnamed: 0</th>\n",
       "      <th>FIPS</th>\n",
       "      <th>PCT_DIABETES_ADULTS13</th>\n",
       "      <th>FSRPTH09</th>\n",
       "      <th>MEDHHINC15</th>\n",
       "      <th>PC_DIRSALES12</th>\n",
       "      <th>RECFACPTH09</th>\n",
       "      <th>SPECSPTH09</th>\n",
       "      <th>SODA_PRICE10</th>\n",
       "      <th>PCT_LOCLFARM12</th>\n",
       "      <th>...</th>\n",
       "      <th>PCT_NSLP09</th>\n",
       "      <th>PCT_SNAP12</th>\n",
       "      <th>PCT_FREE_LUNCH09</th>\n",
       "      <th>PERPOV10</th>\n",
       "      <th>SUPERCPTH09</th>\n",
       "      <th>PCT_SBP09</th>\n",
       "      <th>SNAPSPTH12</th>\n",
       "      <th>POVRATE15</th>\n",
       "      <th>PCT_LACCESS_HHNV10</th>\n",
       "      <th>PCT_OBESE_ADULTS13</th>\n",
       "    </tr>\n",
       "  </thead>\n",
       "  <tbody>\n",
       "    <tr>\n",
       "      <th>count</th>\n",
       "      <td>3143.000000</td>\n",
       "      <td>3143.000000</td>\n",
       "      <td>3143.000000</td>\n",
       "      <td>3143.000000</td>\n",
       "      <td>3143.000000</td>\n",
       "      <td>3143.000000</td>\n",
       "      <td>3143.000000</td>\n",
       "      <td>3143.000000</td>\n",
       "      <td>3143.000000</td>\n",
       "      <td>3143.000000</td>\n",
       "      <td>...</td>\n",
       "      <td>3143.000000</td>\n",
       "      <td>3143.000000</td>\n",
       "      <td>3143.000000</td>\n",
       "      <td>3143.000000</td>\n",
       "      <td>3143.000000</td>\n",
       "      <td>3143.000000</td>\n",
       "      <td>3143.000000</td>\n",
       "      <td>3143.000000</td>\n",
       "      <td>3143.000000</td>\n",
       "      <td>3143.000000</td>\n",
       "    </tr>\n",
       "    <tr>\n",
       "      <th>mean</th>\n",
       "      <td>1571.000000</td>\n",
       "      <td>30390.411709</td>\n",
       "      <td>11.223293</td>\n",
       "      <td>0.734784</td>\n",
       "      <td>48166.822465</td>\n",
       "      <td>7.135911</td>\n",
       "      <td>0.072668</td>\n",
       "      <td>0.051489</td>\n",
       "      <td>0.990577</td>\n",
       "      <td>6.860307</td>\n",
       "      <td>...</td>\n",
       "      <td>11.132248</td>\n",
       "      <td>15.157662</td>\n",
       "      <td>40.970034</td>\n",
       "      <td>0.112313</td>\n",
       "      <td>0.014483</td>\n",
       "      <td>3.938442</td>\n",
       "      <td>0.869422</td>\n",
       "      <td>16.050120</td>\n",
       "      <td>2.947975</td>\n",
       "      <td>31.031851</td>\n",
       "    </tr>\n",
       "    <tr>\n",
       "      <th>std</th>\n",
       "      <td>907.450274</td>\n",
       "      <td>15164.717720</td>\n",
       "      <td>2.231687</td>\n",
       "      <td>0.352023</td>\n",
       "      <td>10376.471794</td>\n",
       "      <td>7.048415</td>\n",
       "      <td>0.061262</td>\n",
       "      <td>0.052887</td>\n",
       "      <td>0.048271</td>\n",
       "      <td>5.470817</td>\n",
       "      <td>...</td>\n",
       "      <td>1.850165</td>\n",
       "      <td>3.438042</td>\n",
       "      <td>14.243990</td>\n",
       "      <td>0.315801</td>\n",
       "      <td>0.017016</td>\n",
       "      <td>1.350278</td>\n",
       "      <td>0.316005</td>\n",
       "      <td>5.598152</td>\n",
       "      <td>1.769319</td>\n",
       "      <td>3.969074</td>\n",
       "    </tr>\n",
       "    <tr>\n",
       "      <th>min</th>\n",
       "      <td>0.000000</td>\n",
       "      <td>1001.000000</td>\n",
       "      <td>7.500000</td>\n",
       "      <td>0.224457</td>\n",
       "      <td>32620.000000</td>\n",
       "      <td>0.247672</td>\n",
       "      <td>0.000000</td>\n",
       "      <td>0.000000</td>\n",
       "      <td>0.930224</td>\n",
       "      <td>0.836820</td>\n",
       "      <td>...</td>\n",
       "      <td>7.990853</td>\n",
       "      <td>9.495621</td>\n",
       "      <td>18.061983</td>\n",
       "      <td>0.000000</td>\n",
       "      <td>0.000000</td>\n",
       "      <td>2.272469</td>\n",
       "      <td>0.401110</td>\n",
       "      <td>7.800000</td>\n",
       "      <td>0.676899</td>\n",
       "      <td>23.000000</td>\n",
       "    </tr>\n",
       "    <tr>\n",
       "      <th>25%</th>\n",
       "      <td>785.500000</td>\n",
       "      <td>18178.000000</td>\n",
       "      <td>9.500000</td>\n",
       "      <td>0.493836</td>\n",
       "      <td>40446.500000</td>\n",
       "      <td>1.846759</td>\n",
       "      <td>0.000000</td>\n",
       "      <td>0.000000</td>\n",
       "      <td>0.950234</td>\n",
       "      <td>2.832098</td>\n",
       "      <td>...</td>\n",
       "      <td>9.275093</td>\n",
       "      <td>12.566062</td>\n",
       "      <td>29.762637</td>\n",
       "      <td>0.000000</td>\n",
       "      <td>0.000000</td>\n",
       "      <td>2.818021</td>\n",
       "      <td>0.629603</td>\n",
       "      <td>11.500000</td>\n",
       "      <td>1.609832</td>\n",
       "      <td>28.300000</td>\n",
       "    </tr>\n",
       "    <tr>\n",
       "      <th>50%</th>\n",
       "      <td>1571.000000</td>\n",
       "      <td>29177.000000</td>\n",
       "      <td>11.100000</td>\n",
       "      <td>0.667858</td>\n",
       "      <td>46812.000000</td>\n",
       "      <td>4.950728</td>\n",
       "      <td>0.070302</td>\n",
       "      <td>0.043577</td>\n",
       "      <td>0.974821</td>\n",
       "      <td>5.093834</td>\n",
       "      <td>...</td>\n",
       "      <td>11.416674</td>\n",
       "      <td>15.223027</td>\n",
       "      <td>40.618802</td>\n",
       "      <td>0.000000</td>\n",
       "      <td>0.007298</td>\n",
       "      <td>3.294967</td>\n",
       "      <td>0.818400</td>\n",
       "      <td>15.200000</td>\n",
       "      <td>2.572299</td>\n",
       "      <td>31.200000</td>\n",
       "    </tr>\n",
       "    <tr>\n",
       "      <th>75%</th>\n",
       "      <td>2356.500000</td>\n",
       "      <td>45082.000000</td>\n",
       "      <td>12.900000</td>\n",
       "      <td>0.897423</td>\n",
       "      <td>54150.000000</td>\n",
       "      <td>9.088274</td>\n",
       "      <td>0.112864</td>\n",
       "      <td>0.083710</td>\n",
       "      <td>1.038527</td>\n",
       "      <td>9.159465</td>\n",
       "      <td>...</td>\n",
       "      <td>13.112031</td>\n",
       "      <td>18.353499</td>\n",
       "      <td>50.479574</td>\n",
       "      <td>0.000000</td>\n",
       "      <td>0.025621</td>\n",
       "      <td>5.427669</td>\n",
       "      <td>1.066786</td>\n",
       "      <td>19.700000</td>\n",
       "      <td>3.806324</td>\n",
       "      <td>33.800000</td>\n",
       "    </tr>\n",
       "    <tr>\n",
       "      <th>max</th>\n",
       "      <td>3142.000000</td>\n",
       "      <td>56045.000000</td>\n",
       "      <td>15.500000</td>\n",
       "      <td>1.605010</td>\n",
       "      <td>71896.000000</td>\n",
       "      <td>26.524685</td>\n",
       "      <td>0.201925</td>\n",
       "      <td>0.176991</td>\n",
       "      <td>1.102873</td>\n",
       "      <td>20.987654</td>\n",
       "      <td>...</td>\n",
       "      <td>13.551343</td>\n",
       "      <td>20.666612</td>\n",
       "      <td>69.509804</td>\n",
       "      <td>1.000000</td>\n",
       "      <td>0.053353</td>\n",
       "      <td>6.169233</td>\n",
       "      <td>1.561552</td>\n",
       "      <td>28.000000</td>\n",
       "      <td>7.258064</td>\n",
       "      <td>38.000000</td>\n",
       "    </tr>\n",
       "  </tbody>\n",
       "</table>\n",
       "<p>8 rows × 34 columns</p>\n",
       "</div>"
      ],
      "text/plain": [
       "        Unnamed: 0          FIPS  PCT_DIABETES_ADULTS13     FSRPTH09  \\\n",
       "count  3143.000000   3143.000000            3143.000000  3143.000000   \n",
       "mean   1571.000000  30390.411709              11.223293     0.734784   \n",
       "std     907.450274  15164.717720               2.231687     0.352023   \n",
       "min       0.000000   1001.000000               7.500000     0.224457   \n",
       "25%     785.500000  18178.000000               9.500000     0.493836   \n",
       "50%    1571.000000  29177.000000              11.100000     0.667858   \n",
       "75%    2356.500000  45082.000000              12.900000     0.897423   \n",
       "max    3142.000000  56045.000000              15.500000     1.605010   \n",
       "\n",
       "         MEDHHINC15  PC_DIRSALES12  RECFACPTH09   SPECSPTH09  SODA_PRICE10  \\\n",
       "count   3143.000000    3143.000000  3143.000000  3143.000000   3143.000000   \n",
       "mean   48166.822465       7.135911     0.072668     0.051489      0.990577   \n",
       "std    10376.471794       7.048415     0.061262     0.052887      0.048271   \n",
       "min    32620.000000       0.247672     0.000000     0.000000      0.930224   \n",
       "25%    40446.500000       1.846759     0.000000     0.000000      0.950234   \n",
       "50%    46812.000000       4.950728     0.070302     0.043577      0.974821   \n",
       "75%    54150.000000       9.088274     0.112864     0.083710      1.038527   \n",
       "max    71896.000000      26.524685     0.201925     0.176991      1.102873   \n",
       "\n",
       "       PCT_LOCLFARM12  ...   PCT_NSLP09   PCT_SNAP12  PCT_FREE_LUNCH09  \\\n",
       "count     3143.000000  ...  3143.000000  3143.000000       3143.000000   \n",
       "mean         6.860307  ...    11.132248    15.157662         40.970034   \n",
       "std          5.470817  ...     1.850165     3.438042         14.243990   \n",
       "min          0.836820  ...     7.990853     9.495621         18.061983   \n",
       "25%          2.832098  ...     9.275093    12.566062         29.762637   \n",
       "50%          5.093834  ...    11.416674    15.223027         40.618802   \n",
       "75%          9.159465  ...    13.112031    18.353499         50.479574   \n",
       "max         20.987654  ...    13.551343    20.666612         69.509804   \n",
       "\n",
       "          PERPOV10  SUPERCPTH09    PCT_SBP09   SNAPSPTH12    POVRATE15  \\\n",
       "count  3143.000000  3143.000000  3143.000000  3143.000000  3143.000000   \n",
       "mean      0.112313     0.014483     3.938442     0.869422    16.050120   \n",
       "std       0.315801     0.017016     1.350278     0.316005     5.598152   \n",
       "min       0.000000     0.000000     2.272469     0.401110     7.800000   \n",
       "25%       0.000000     0.000000     2.818021     0.629603    11.500000   \n",
       "50%       0.000000     0.007298     3.294967     0.818400    15.200000   \n",
       "75%       0.000000     0.025621     5.427669     1.066786    19.700000   \n",
       "max       1.000000     0.053353     6.169233     1.561552    28.000000   \n",
       "\n",
       "       PCT_LACCESS_HHNV10  PCT_OBESE_ADULTS13  \n",
       "count         3143.000000         3143.000000  \n",
       "mean             2.947975           31.031851  \n",
       "std              1.769319            3.969074  \n",
       "min              0.676899           23.000000  \n",
       "25%              1.609832           28.300000  \n",
       "50%              2.572299           31.200000  \n",
       "75%              3.806324           33.800000  \n",
       "max              7.258064           38.000000  \n",
       "\n",
       "[8 rows x 34 columns]"
      ]
     },
     "execution_count": 29,
     "metadata": {},
     "output_type": "execute_result"
    }
   ],
   "source": [
    "df.describe()"
   ]
  },
  {
   "cell_type": "code",
   "execution_count": 30,
   "metadata": {},
   "outputs": [],
   "source": [
    "X = df.iloc[:,5:-1] # Select features. Retained the categorizal feature \"persistant poverty county\"\n",
    "X= X.drop('SODA_PRICE10',axis=1)\n",
    "X= X.drop('MILK_SODA_PRICE10',axis=1)\n",
    "y = df.PCT_DIABETES_ADULTS13 # Target variable\n",
    "\n",
    "# Split data\n",
    "X_train, X_test, y_train, y_test = train_test_split(X, y, test_size=0.4, random_state=21)\n"
   ]
  },
  {
   "cell_type": "code",
   "execution_count": 31,
   "metadata": {},
   "outputs": [
    {
     "data": {
      "text/plain": [
       "DecisionTreeRegressor(criterion='mse', max_depth=5, max_features=None,\n",
       "                      max_leaf_nodes=None, min_impurity_decrease=0.0,\n",
       "                      min_impurity_split=None, min_samples_leaf=1,\n",
       "                      min_samples_split=2, min_weight_fraction_leaf=0.0,\n",
       "                      presort=False, random_state=None, splitter='best')"
      ]
     },
     "execution_count": 31,
     "metadata": {},
     "output_type": "execute_result"
    }
   ],
   "source": [
    "tree_4 = DecisionTreeRegressor(max_depth=2)\n",
    "tree_5 = DecisionTreeRegressor(max_depth=4)\n",
    "tree_6 = DecisionTreeRegressor(max_depth=5)\n",
    "tree_4.fit(X_train,y_train)\n",
    "tree_5.fit(X_train,y_train)\n",
    "tree_6.fit(X_train,y_train)"
   ]
  },
  {
   "cell_type": "code",
   "execution_count": 32,
   "metadata": {},
   "outputs": [
    {
     "name": "stdout",
     "output_type": "stream",
     "text": [
      "Training data R-squread for max-depth = 2:  0.4122660702386739\n",
      "Training data R-squread for max-depth = 4:  0.5714251344889911\n",
      "Training data R-squread for max-depth = 5:  0.633876105151852\n"
     ]
    }
   ],
   "source": [
    "print('Training data R-squared for max-depth = 2: ',tree_4.score(X_train,y_train))\n",
    "print('Training data R-squared for max-depth = 4: ',tree_5.score(X_train,y_train))\n",
    "print('Training data R-squared for max-depth = 5: ',tree_6.score(X_train,y_train))"
   ]
  },
  {
   "cell_type": "code",
   "execution_count": 33,
   "metadata": {},
   "outputs": [
    {
     "name": "stdout",
     "output_type": "stream",
     "text": [
      "Fitting data R-squread for max-depth = 2:  0.4152691273678295\n",
      "Fitting data R-squread for max-depth = 4:  0.5505381337695896\n",
      "Fitting data R-squread for max-depth = 5:  0.5760982868428517\n"
     ]
    }
   ],
   "source": [
    "print('Fitting data R-squared for max-depth = 2: ',tree_4.score(X_test,y_test))\n",
    "print('Fitting data R-squared for max-depth = 4: ',tree_5.score(X_test,y_test))\n",
    "print('Fitting data R-squared for max-depth = 5: ',tree_6.score(X_test,y_test))"
   ]
  },
  {
   "cell_type": "code",
   "execution_count": 34,
   "metadata": {},
   "outputs": [
    {
     "data": {
      "text/plain": [
       "0"
      ]
     },
     "execution_count": 34,
     "metadata": {},
     "output_type": "execute_result"
    }
   ],
   "source": [
    "from sklearn.tree import export_graphviz\n",
    "\n",
    "export_graphviz(tree_5, out_file='tree2.dot',\n",
    "               feature_names = X.columns)\n",
    "\n",
    "call(['dot', '-T', 'png', 'tree2.dot', '-o', 'tree2.png'])"
   ]
  },
  {
   "cell_type": "markdown",
   "metadata": {},
   "source": [
    "<img src=\"tree2.png\">"
   ]
  },
  {
   "cell_type": "markdown",
   "metadata": {},
   "source": [
    "In this model, two new features were selected: \n",
    " - FOODINSEC_10_12: household food insecurity (%, three-year average 2010-12)\n",
    " - POVRATE15: Poverty rate, 2015\n",
    " \n",
    "Removing soda price features did not significantly improve model fit. "
   ]
  },
  {
   "cell_type": "markdown",
   "metadata": {},
   "source": [
    "To be continued"
   ]
  },
  {
   "cell_type": "code",
   "execution_count": null,
   "metadata": {},
   "outputs": [],
   "source": []
  }
 ],
 "metadata": {
  "kernelspec": {
   "display_name": "Python 3",
   "language": "python",
   "name": "python3"
  },
  "language_info": {
   "codemirror_mode": {
    "name": "ipython",
    "version": 3
   },
   "file_extension": ".py",
   "mimetype": "text/x-python",
   "name": "python",
   "nbconvert_exporter": "python",
   "pygments_lexer": "ipython3",
   "version": "3.6.7"
  }
 },
 "nbformat": 4,
 "nbformat_minor": 2
}
