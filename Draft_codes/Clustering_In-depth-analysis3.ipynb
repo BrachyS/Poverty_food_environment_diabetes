{
 "cells": [
  {
   "cell_type": "markdown",
   "metadata": {},
   "source": [
    "In this analysis, we are going to examine the dataset via a different angle: patterns of food cultures among counties in the U.S.. Variables different from previous analyese will be used, including those in these categories:  \n",
    " - Store availability  \n",
    " - Restaurant availability  \n",
    " - Local foods    \n",
    " \n",
    "And other categories that are potentially more dependent on local government policies:  \n",
    " - Food prices and taxes    \n",
    " - Health and physical facilities  "
   ]
  },
  {
   "cell_type": "code",
   "execution_count": 1,
   "metadata": {},
   "outputs": [],
   "source": [
    "import pandas as pd\n",
    "import numpy as np\n",
    "import matplotlib.pyplot as plt\n",
    "import seaborn as sns\n",
    "\n",
    "%matplotlib inline"
   ]
  },
  {
   "cell_type": "markdown",
   "metadata": {},
   "source": [
    "### 1. Data import and cleaning"
   ]
  },
  {
   "cell_type": "code",
   "execution_count": 10,
   "metadata": {},
   "outputs": [],
   "source": [
    "df = pd.read_csv('data_atlas/atlas.csv') # County data for all features\n",
    "allfeatures = pd.read_csv('data_atlas/variables.csv',index_col='Category Code') # Feature names and details\n",
    "\n",
    "# Filter out features not to be considered\n",
    "# 1)Remove variables that measure '% change' between years\n",
    "feature_filter1 = allfeatures.loc[(allfeatures['Units']!='% change')&(allfeatures['Units']!='Classification')]\n",
    "\n",
    "\n",
    "# 2) For features that have two or more years, choose the most recent one only\n",
    "# Split variable name in order to sort by years\n",
    "feature_filter2 = pd.DataFrame(feature_filter1['Variable Name'].str.rsplit(', ',1).tolist(), columns=['Variable','Year']) \n",
    "feature = pd.concat([feature_filter1.reset_index(),feature_filter2],axis=1)\n",
    "\n",
    "# # Sort by year and only keep the most recent year\n",
    "feature = feature.sort_values(by='Year', ascending=False)\n",
    "feature = feature.drop_duplicates(subset='Variable',keep='first')\n",
    "feature = feature.set_index('Category Code')\n",
    "\n",
    "# # Slice dataframe with the selected features plus county info\n",
    "df = df.loc[:,['FIPS','State','County'] + feature['Variable Code'].tolist()] # Select data with updated features"
   ]
  },
  {
   "cell_type": "code",
   "execution_count": 11,
   "metadata": {},
   "outputs": [
    {
     "name": "stdout",
     "output_type": "stream",
     "text": [
      "(142, 9)\n",
      "(3143, 145)\n"
     ]
    }
   ],
   "source": [
    "print(feature.shape) # 147 features\n",
    "print(df.shape)"
   ]
  },
  {
   "cell_type": "code",
   "execution_count": 12,
   "metadata": {},
   "outputs": [],
   "source": [
    "df = df.loc[:,['FIPS','State','County'] + feature['Variable Code'].tolist()] # Select data with updated features"
   ]
  },
  {
   "cell_type": "code",
   "execution_count": 13,
   "metadata": {},
   "outputs": [
    {
     "data": {
      "text/html": [
       "<div>\n",
       "<style scoped>\n",
       "    .dataframe tbody tr th:only-of-type {\n",
       "        vertical-align: middle;\n",
       "    }\n",
       "\n",
       "    .dataframe tbody tr th {\n",
       "        vertical-align: top;\n",
       "    }\n",
       "\n",
       "    .dataframe thead th {\n",
       "        text-align: right;\n",
       "    }\n",
       "</style>\n",
       "<table border=\"1\" class=\"dataframe\">\n",
       "  <thead>\n",
       "    <tr style=\"text-align: right;\">\n",
       "      <th></th>\n",
       "      <th>FIPS</th>\n",
       "      <th>State</th>\n",
       "      <th>County</th>\n",
       "      <th>PCT_SNAP16</th>\n",
       "      <th>PCT_FMRKT_FRVEG16</th>\n",
       "      <th>FMRKT_SFMNP16</th>\n",
       "      <th>PCT_FMRKT_OTHERFOOD16</th>\n",
       "      <th>PCT_FMRKT_BAKED16</th>\n",
       "      <th>FMRKTPTH16</th>\n",
       "      <th>PCT_FMRKT_ANMLPROD16</th>\n",
       "      <th>...</th>\n",
       "      <th>PERPOV10</th>\n",
       "      <th>METRO13</th>\n",
       "      <th>PCH_CACFP_09_15</th>\n",
       "      <th>PCH_WIC_09_15</th>\n",
       "      <th>PCH_SFSP_09_15</th>\n",
       "      <th>PCH_SBP_09_15</th>\n",
       "      <th>PCH_NSLP_09_15</th>\n",
       "      <th>FOODINSEC_CHILD_03_11</th>\n",
       "      <th>CH_FOODINSEC_12_15</th>\n",
       "      <th>CH_VLFOODSEC_12_15</th>\n",
       "    </tr>\n",
       "  </thead>\n",
       "  <tbody>\n",
       "    <tr>\n",
       "      <th>0</th>\n",
       "      <td>1001</td>\n",
       "      <td>AL</td>\n",
       "      <td>Autauga</td>\n",
       "      <td>16.976436</td>\n",
       "      <td>100.0</td>\n",
       "      <td>0.0</td>\n",
       "      <td>100.0</td>\n",
       "      <td>100.0</td>\n",
       "      <td>0.018045</td>\n",
       "      <td>0.0</td>\n",
       "      <td>...</td>\n",
       "      <td>0</td>\n",
       "      <td>1</td>\n",
       "      <td>0.139507</td>\n",
       "      <td>-0.271065</td>\n",
       "      <td>0.462219</td>\n",
       "      <td>0.723991</td>\n",
       "      <td>-1.380526</td>\n",
       "      <td>9.3</td>\n",
       "      <td>-0.3</td>\n",
       "      <td>0.5</td>\n",
       "    </tr>\n",
       "    <tr>\n",
       "      <th>1</th>\n",
       "      <td>1003</td>\n",
       "      <td>AL</td>\n",
       "      <td>Baldwin</td>\n",
       "      <td>16.976436</td>\n",
       "      <td>75.0</td>\n",
       "      <td>4.0</td>\n",
       "      <td>75.0</td>\n",
       "      <td>75.0</td>\n",
       "      <td>0.019179</td>\n",
       "      <td>100.0</td>\n",
       "      <td>...</td>\n",
       "      <td>0</td>\n",
       "      <td>1</td>\n",
       "      <td>0.139507</td>\n",
       "      <td>-0.271065</td>\n",
       "      <td>0.462219</td>\n",
       "      <td>0.723991</td>\n",
       "      <td>-1.380526</td>\n",
       "      <td>9.3</td>\n",
       "      <td>-0.3</td>\n",
       "      <td>0.5</td>\n",
       "    </tr>\n",
       "    <tr>\n",
       "      <th>2</th>\n",
       "      <td>1005</td>\n",
       "      <td>AL</td>\n",
       "      <td>Barbour</td>\n",
       "      <td>16.976436</td>\n",
       "      <td>50.0</td>\n",
       "      <td>2.0</td>\n",
       "      <td>50.0</td>\n",
       "      <td>50.0</td>\n",
       "      <td>0.154054</td>\n",
       "      <td>0.0</td>\n",
       "      <td>...</td>\n",
       "      <td>1</td>\n",
       "      <td>0</td>\n",
       "      <td>0.139507</td>\n",
       "      <td>-0.271065</td>\n",
       "      <td>0.462219</td>\n",
       "      <td>0.723991</td>\n",
       "      <td>-1.380526</td>\n",
       "      <td>9.3</td>\n",
       "      <td>-0.3</td>\n",
       "      <td>0.5</td>\n",
       "    </tr>\n",
       "    <tr>\n",
       "      <th>3</th>\n",
       "      <td>1007</td>\n",
       "      <td>AL</td>\n",
       "      <td>Bibb</td>\n",
       "      <td>16.976436</td>\n",
       "      <td>0.0</td>\n",
       "      <td>0.0</td>\n",
       "      <td>0.0</td>\n",
       "      <td>0.0</td>\n",
       "      <td>0.044164</td>\n",
       "      <td>0.0</td>\n",
       "      <td>...</td>\n",
       "      <td>0</td>\n",
       "      <td>1</td>\n",
       "      <td>0.139507</td>\n",
       "      <td>-0.271065</td>\n",
       "      <td>0.462219</td>\n",
       "      <td>0.723991</td>\n",
       "      <td>-1.380526</td>\n",
       "      <td>9.3</td>\n",
       "      <td>-0.3</td>\n",
       "      <td>0.5</td>\n",
       "    </tr>\n",
       "    <tr>\n",
       "      <th>4</th>\n",
       "      <td>1009</td>\n",
       "      <td>AL</td>\n",
       "      <td>Blount</td>\n",
       "      <td>16.976436</td>\n",
       "      <td>100.0</td>\n",
       "      <td>1.0</td>\n",
       "      <td>100.0</td>\n",
       "      <td>100.0</td>\n",
       "      <td>0.017330</td>\n",
       "      <td>100.0</td>\n",
       "      <td>...</td>\n",
       "      <td>0</td>\n",
       "      <td>1</td>\n",
       "      <td>0.139507</td>\n",
       "      <td>-0.271065</td>\n",
       "      <td>0.462219</td>\n",
       "      <td>0.723991</td>\n",
       "      <td>-1.380526</td>\n",
       "      <td>9.3</td>\n",
       "      <td>-0.3</td>\n",
       "      <td>0.5</td>\n",
       "    </tr>\n",
       "  </tbody>\n",
       "</table>\n",
       "<p>5 rows × 145 columns</p>\n",
       "</div>"
      ],
      "text/plain": [
       "   FIPS State   County  PCT_SNAP16  PCT_FMRKT_FRVEG16  FMRKT_SFMNP16  \\\n",
       "0  1001    AL  Autauga   16.976436              100.0            0.0   \n",
       "1  1003    AL  Baldwin   16.976436               75.0            4.0   \n",
       "2  1005    AL  Barbour   16.976436               50.0            2.0   \n",
       "3  1007    AL     Bibb   16.976436                0.0            0.0   \n",
       "4  1009    AL   Blount   16.976436              100.0            1.0   \n",
       "\n",
       "   PCT_FMRKT_OTHERFOOD16  PCT_FMRKT_BAKED16  FMRKTPTH16  PCT_FMRKT_ANMLPROD16  \\\n",
       "0                  100.0              100.0    0.018045                   0.0   \n",
       "1                   75.0               75.0    0.019179                 100.0   \n",
       "2                   50.0               50.0    0.154054                   0.0   \n",
       "3                    0.0                0.0    0.044164                   0.0   \n",
       "4                  100.0              100.0    0.017330                 100.0   \n",
       "\n",
       "   ...  PERPOV10  METRO13  PCH_CACFP_09_15  PCH_WIC_09_15  PCH_SFSP_09_15  \\\n",
       "0  ...         0        1         0.139507      -0.271065        0.462219   \n",
       "1  ...         0        1         0.139507      -0.271065        0.462219   \n",
       "2  ...         1        0         0.139507      -0.271065        0.462219   \n",
       "3  ...         0        1         0.139507      -0.271065        0.462219   \n",
       "4  ...         0        1         0.139507      -0.271065        0.462219   \n",
       "\n",
       "   PCH_SBP_09_15  PCH_NSLP_09_15  FOODINSEC_CHILD_03_11  CH_FOODINSEC_12_15  \\\n",
       "0       0.723991       -1.380526                    9.3                -0.3   \n",
       "1       0.723991       -1.380526                    9.3                -0.3   \n",
       "2       0.723991       -1.380526                    9.3                -0.3   \n",
       "3       0.723991       -1.380526                    9.3                -0.3   \n",
       "4       0.723991       -1.380526                    9.3                -0.3   \n",
       "\n",
       "   CH_VLFOODSEC_12_15  \n",
       "0                 0.5  \n",
       "1                 0.5  \n",
       "2                 0.5  \n",
       "3                 0.5  \n",
       "4                 0.5  \n",
       "\n",
       "[5 rows x 145 columns]"
      ]
     },
     "execution_count": 13,
     "metadata": {},
     "output_type": "execute_result"
    }
   ],
   "source": [
    "df.head()"
   ]
  },
  {
   "cell_type": "markdown",
   "metadata": {},
   "source": [
    "### 2. Dealing with Missing values and outliers\n",
    "\n",
    "#### Any comments on Iterative imputer for dealing with missing values? "
   ]
  },
  {
   "cell_type": "code",
   "execution_count": 6,
   "metadata": {},
   "outputs": [],
   "source": [
    "# Calculate state average values for each feature\n",
    "state_avg = df.groupby('State',as_index=False).mean()"
   ]
  },
  {
   "cell_type": "code",
   "execution_count": 7,
   "metadata": {},
   "outputs": [],
   "source": [
    "# Fill missing values using Iterative imputer\n",
    "# which is a mmultivariate imputer that estimates each feature from all others\n",
    "# Default estimator is BayesianRidge \n",
    "from sklearn.experimental import enable_iterative_imputer\n",
    "from sklearn.impute import IterativeImputer\n",
    "imp_mean = IterativeImputer(min_value=0,random_state=0) # All values should be non negative\n"
   ]
  },
  {
   "cell_type": "code",
   "execution_count": 8,
   "metadata": {},
   "outputs": [
    {
     "name": "stderr",
     "output_type": "stream",
     "text": [
      "/Users/Sabrina/anaconda3/lib/python3.6/site-packages/sklearn/impute/_iterative.py:603: ConvergenceWarning: [IterativeImputer] Early stopping criterion not reached.\n",
      "  \" reached.\", ConvergenceWarning)\n"
     ]
    }
   ],
   "source": [
    "transformed = imp_mean.fit_transform(df.drop(['FIPS','State','County'],axis=1))"
   ]
  },
  {
   "cell_type": "code",
   "execution_count": 9,
   "metadata": {},
   "outputs": [],
   "source": [
    "df_imp = pd.DataFrame(transformed)\n",
    "df_imp.columns = df.drop(['FIPS','State','County'],axis=1).columns\n",
    "df_imp = pd.concat([df.loc[:,['FIPS','State','County']],df_imp],axis=1)"
   ]
  },
  {
   "cell_type": "code",
   "execution_count": 10,
   "metadata": {},
   "outputs": [
    {
     "data": {
      "text/html": [
       "<div>\n",
       "<style scoped>\n",
       "    .dataframe tbody tr th:only-of-type {\n",
       "        vertical-align: middle;\n",
       "    }\n",
       "\n",
       "    .dataframe tbody tr th {\n",
       "        vertical-align: top;\n",
       "    }\n",
       "\n",
       "    .dataframe thead th {\n",
       "        text-align: right;\n",
       "    }\n",
       "</style>\n",
       "<table border=\"1\" class=\"dataframe\">\n",
       "  <thead>\n",
       "    <tr style=\"text-align: right;\">\n",
       "      <th></th>\n",
       "      <th>FRESHVEG_ACRES12</th>\n",
       "      <th>GHVEG_FARMS12</th>\n",
       "    </tr>\n",
       "  </thead>\n",
       "  <tbody>\n",
       "    <tr>\n",
       "      <th>319</th>\n",
       "      <td>0.0</td>\n",
       "      <td>9.903522</td>\n",
       "    </tr>\n",
       "  </tbody>\n",
       "</table>\n",
       "</div>"
      ],
      "text/plain": [
       "     FRESHVEG_ACRES12  GHVEG_FARMS12\n",
       "319               0.0       9.903522"
      ]
     },
     "execution_count": 10,
     "metadata": {},
     "output_type": "execute_result"
    }
   ],
   "source": [
    "# Check examples of imputed missing values for DC\n",
    "df_imp.loc[df_imp['State']=='DC',['FRESHVEG_ACRES12','GHVEG_FARMS12']]\n",
    "# It sounds reasonable that DC has 0 fresh vegetable acres for fresh market \n",
    "# and around 10 greenhouse vegetable farms, since it is a metro aera."
   ]
  },
  {
   "cell_type": "code",
   "execution_count": 11,
   "metadata": {},
   "outputs": [
    {
     "data": {
      "text/plain": [
       "(3143, 150)"
      ]
     },
     "execution_count": 11,
     "metadata": {},
     "output_type": "execute_result"
    }
   ],
   "source": [
    "df_imp.shape"
   ]
  },
  {
   "cell_type": "code",
   "execution_count": 12,
   "metadata": {},
   "outputs": [],
   "source": [
    "# Winsorization of outliers \n",
    "from scipy.stats.mstats import winsorize\n",
    "\n",
    "df_winsorized = df_imp.copy()\n",
    "for column in df_winsorized.iloc[:,3:]:\n",
    "    df_winsorized[column]=winsorize(df_winsorized[column],limits=[0.05,0.05])\n"
   ]
  },
  {
   "cell_type": "markdown",
   "metadata": {},
   "source": [
    "### Q: impute missing values first or winsorize first?"
   ]
  },
  {
   "cell_type": "code",
   "execution_count": 13,
   "metadata": {},
   "outputs": [],
   "source": [
    "local = df_winsorized.loc[:,['FIPS','State','County']+feature.loc['LOCAL','Variable Code'].tolist()]\n",
    "restaurants = df_winsorized.loc[:,['FIPS','State','County']+feature.loc['RESTAURANTS','Variable Code'].tolist()]\n",
    "stores = df_winsorized.loc[:,['FIPS','State','County']+feature.loc['STORES','Variable Code'].tolist()]"
   ]
  },
  {
   "cell_type": "code",
   "execution_count": 14,
   "metadata": {},
   "outputs": [
    {
     "name": "stdout",
     "output_type": "stream",
     "text": [
      "(3143, 49) (3143, 9) (3143, 15)\n"
     ]
    }
   ],
   "source": [
    "# Select features in the 'LOCAL' category. 46 selected\n",
    "print(local.shape, restaurants.shape, stores.shape)"
   ]
  },
  {
   "cell_type": "markdown",
   "metadata": {},
   "source": [
    "### 3. Clustering Analysis\n",
    "#### Are there any patterns in local food environment among the counties?"
   ]
  },
  {
   "cell_type": "markdown",
   "metadata": {},
   "source": [
    "#### 3.1. PCA"
   ]
  },
  {
   "cell_type": "code",
   "execution_count": 22,
   "metadata": {},
   "outputs": [],
   "source": [
    "from sklearn.decomposition import PCA\n",
    "from sklearn.preprocessing import StandardScaler\n",
    "from sklearn.pipeline import make_pipeline\n",
    "\n",
    "scaler=StandardScaler()\n",
    "local_scaled = scaler.fit_transform(local.drop(['FIPS','State','County'],axis=1))   # 'LOCAL' category\n",
    "restaurants_scaled = scaler.fit_transform(restaurants.drop(['FIPS','State','County'],axis=1))   # 'LOCAL' category\n",
    "stores_scaled = scaler.fit_transform(stores.drop(['FIPS','State','County'],axis=1))   # 'LOCAL' category\n"
   ]
  },
  {
   "cell_type": "code",
   "execution_count": 23,
   "metadata": {},
   "outputs": [
    {
     "data": {
      "text/plain": [
       "<BarContainer object of 46 artists>"
      ]
     },
     "execution_count": 23,
     "metadata": {},
     "output_type": "execute_result"
    },
    {
     "data": {
      "image/png": "[encoded data removed]",
      "text/plain": [
       "<Figure size 432x288 with 1 Axes>"
      ]
     },
     "metadata": {
      "needs_background": "light"
     },
     "output_type": "display_data"
    }
   ],
   "source": [
    "# LOCAL\n",
    "pca = PCA()\n",
    "pca_features = pca.fit_transform(local_scaled)\n",
    "features = range(pca.n_components_)\n",
    "plt.bar(features,pca.explained_variance_)\n"
   ]
  },
  {
   "cell_type": "code",
   "execution_count": 24,
   "metadata": {},
   "outputs": [
    {
     "data": {
      "text/plain": [
       "<BarContainer object of 6 artists>"
      ]
     },
     "execution_count": 24,
     "metadata": {},
     "output_type": "execute_result"
    },
    {
     "data": {
      "image/png": "[encoded data removed]",
      "text/plain": [
       "<Figure size 432x288 with 1 Axes>"
      ]
     },
     "metadata": {
      "needs_background": "light"
     },
     "output_type": "display_data"
    }
   ],
   "source": [
    "# Restaurants\n",
    "pca = PCA()\n",
    "pca_features = pca.fit_transform(restaurants_scaled)\n",
    "features = range(pca.n_components_)\n",
    "plt.bar(features,pca.explained_variance_)\n"
   ]
  },
  {
   "cell_type": "code",
   "execution_count": 25,
   "metadata": {},
   "outputs": [
    {
     "data": {
      "text/plain": [
       "<BarContainer object of 12 artists>"
      ]
     },
     "execution_count": 25,
     "metadata": {},
     "output_type": "execute_result"
    },
    {
     "data": {
      "image/png": "[encoded data removed]",
      "text/plain": [
       "<Figure size 432x288 with 1 Axes>"
      ]
     },
     "metadata": {
      "needs_background": "light"
     },
     "output_type": "display_data"
    }
   ],
   "source": [
    "# Stores\n",
    "pca = PCA()\n",
    "pca_features = pca.fit_transform(stores_scaled)\n",
    "features = range(pca.n_components_)\n",
    "plt.bar(features,pca.explained_variance_)\n"
   ]
  },
  {
   "cell_type": "code",
   "execution_count": null,
   "metadata": {},
   "outputs": [],
   "source": []
  },
  {
   "cell_type": "code",
   "execution_count": 26,
   "metadata": {},
   "outputs": [
    {
     "data": {
      "text/html": [
       "<div>\n",
       "<style scoped>\n",
       "    .dataframe tbody tr th:only-of-type {\n",
       "        vertical-align: middle;\n",
       "    }\n",
       "\n",
       "    .dataframe tbody tr th {\n",
       "        vertical-align: top;\n",
       "    }\n",
       "\n",
       "    .dataframe thead th {\n",
       "        text-align: right;\n",
       "    }\n",
       "</style>\n",
       "<table border=\"1\" class=\"dataframe\">\n",
       "  <thead>\n",
       "    <tr style=\"text-align: right;\">\n",
       "      <th></th>\n",
       "      <th>FIPS</th>\n",
       "      <th>State</th>\n",
       "      <th>County</th>\n",
       "      <th>PCT_FMRKT_WICCASH16</th>\n",
       "      <th>PCT_FMRKT_FRVEG16</th>\n",
       "      <th>PCT_FMRKT_CREDIT16</th>\n",
       "      <th>PCT_FMRKT_SFMNP16</th>\n",
       "      <th>FMRKT_BAKED16</th>\n",
       "      <th>PCT_FMRKT_WIC16</th>\n",
       "      <th>FMRKT_SFMNP16</th>\n",
       "      <th>...</th>\n",
       "      <th>FRESHVEG_ACRESPTH12</th>\n",
       "      <th>ORCHARD_FARMS12</th>\n",
       "      <th>ORCHARD_ACRESPTH12</th>\n",
       "      <th>BERRY_FARMS12</th>\n",
       "      <th>BERRY_ACRESPTH12</th>\n",
       "      <th>DIRSALES12</th>\n",
       "      <th>GHVEG_SQFTPTH12</th>\n",
       "      <th>CSA12</th>\n",
       "      <th>AGRITRSM_OPS12</th>\n",
       "      <th>GHVEG_FARMS12</th>\n",
       "    </tr>\n",
       "  </thead>\n",
       "  <tbody>\n",
       "    <tr>\n",
       "      <th>0</th>\n",
       "      <td>1001</td>\n",
       "      <td>AL</td>\n",
       "      <td>Autauga</td>\n",
       "      <td>0.0</td>\n",
       "      <td>100.0</td>\n",
       "      <td>0.0</td>\n",
       "      <td>0.0</td>\n",
       "      <td>1.0</td>\n",
       "      <td>0.0</td>\n",
       "      <td>0.0</td>\n",
       "      <td>...</td>\n",
       "      <td>64.527580</td>\n",
       "      <td>25.0</td>\n",
       "      <td>7.285908</td>\n",
       "      <td>5.0</td>\n",
       "      <td>0.090621</td>\n",
       "      <td>308.0</td>\n",
       "      <td>0.000000</td>\n",
       "      <td>3.0</td>\n",
       "      <td>10.0</td>\n",
       "      <td>0.0</td>\n",
       "    </tr>\n",
       "    <tr>\n",
       "      <th>1</th>\n",
       "      <td>1003</td>\n",
       "      <td>AL</td>\n",
       "      <td>Baldwin</td>\n",
       "      <td>0.0</td>\n",
       "      <td>75.0</td>\n",
       "      <td>50.0</td>\n",
       "      <td>100.0</td>\n",
       "      <td>3.0</td>\n",
       "      <td>0.0</td>\n",
       "      <td>4.0</td>\n",
       "      <td>...</td>\n",
       "      <td>19.447869</td>\n",
       "      <td>96.0</td>\n",
       "      <td>17.652682</td>\n",
       "      <td>39.0</td>\n",
       "      <td>0.488456</td>\n",
       "      <td>648.0</td>\n",
       "      <td>326.477447</td>\n",
       "      <td>7.0</td>\n",
       "      <td>16.0</td>\n",
       "      <td>4.0</td>\n",
       "    </tr>\n",
       "    <tr>\n",
       "      <th>2</th>\n",
       "      <td>1005</td>\n",
       "      <td>AL</td>\n",
       "      <td>Barbour</td>\n",
       "      <td>0.0</td>\n",
       "      <td>50.0</td>\n",
       "      <td>50.0</td>\n",
       "      <td>50.0</td>\n",
       "      <td>2.0</td>\n",
       "      <td>0.0</td>\n",
       "      <td>2.0</td>\n",
       "      <td>...</td>\n",
       "      <td>1.509628</td>\n",
       "      <td>58.0</td>\n",
       "      <td>29.419345</td>\n",
       "      <td>5.0</td>\n",
       "      <td>1.546449</td>\n",
       "      <td>13.0</td>\n",
       "      <td>0.000000</td>\n",
       "      <td>0.0</td>\n",
       "      <td>32.0</td>\n",
       "      <td>0.0</td>\n",
       "    </tr>\n",
       "    <tr>\n",
       "      <th>3</th>\n",
       "      <td>1007</td>\n",
       "      <td>AL</td>\n",
       "      <td>Bibb</td>\n",
       "      <td>0.0</td>\n",
       "      <td>0.0</td>\n",
       "      <td>0.0</td>\n",
       "      <td>0.0</td>\n",
       "      <td>0.0</td>\n",
       "      <td>0.0</td>\n",
       "      <td>0.0</td>\n",
       "      <td>...</td>\n",
       "      <td>0.529989</td>\n",
       "      <td>4.0</td>\n",
       "      <td>0.574154</td>\n",
       "      <td>2.0</td>\n",
       "      <td>3.414746</td>\n",
       "      <td>20.0</td>\n",
       "      <td>267.153587</td>\n",
       "      <td>3.0</td>\n",
       "      <td>6.0</td>\n",
       "      <td>2.0</td>\n",
       "    </tr>\n",
       "    <tr>\n",
       "      <th>4</th>\n",
       "      <td>1009</td>\n",
       "      <td>AL</td>\n",
       "      <td>Blount</td>\n",
       "      <td>0.0</td>\n",
       "      <td>100.0</td>\n",
       "      <td>0.0</td>\n",
       "      <td>100.0</td>\n",
       "      <td>1.0</td>\n",
       "      <td>100.0</td>\n",
       "      <td>1.0</td>\n",
       "      <td>...</td>\n",
       "      <td>11.319579</td>\n",
       "      <td>28.0</td>\n",
       "      <td>3.046248</td>\n",
       "      <td>25.0</td>\n",
       "      <td>0.657713</td>\n",
       "      <td>495.0</td>\n",
       "      <td>0.000000</td>\n",
       "      <td>4.0</td>\n",
       "      <td>8.0</td>\n",
       "      <td>0.0</td>\n",
       "    </tr>\n",
       "  </tbody>\n",
       "</table>\n",
       "<p>5 rows × 49 columns</p>\n",
       "</div>"
      ],
      "text/plain": [
       "   FIPS State   County  PCT_FMRKT_WICCASH16  PCT_FMRKT_FRVEG16  \\\n",
       "0  1001    AL  Autauga                  0.0              100.0   \n",
       "1  1003    AL  Baldwin                  0.0               75.0   \n",
       "2  1005    AL  Barbour                  0.0               50.0   \n",
       "3  1007    AL     Bibb                  0.0                0.0   \n",
       "4  1009    AL   Blount                  0.0              100.0   \n",
       "\n",
       "   PCT_FMRKT_CREDIT16  PCT_FMRKT_SFMNP16  FMRKT_BAKED16  PCT_FMRKT_WIC16  \\\n",
       "0                 0.0                0.0            1.0              0.0   \n",
       "1                50.0              100.0            3.0              0.0   \n",
       "2                50.0               50.0            2.0              0.0   \n",
       "3                 0.0                0.0            0.0              0.0   \n",
       "4                 0.0              100.0            1.0            100.0   \n",
       "\n",
       "   FMRKT_SFMNP16  ...  FRESHVEG_ACRESPTH12  ORCHARD_FARMS12  \\\n",
       "0            0.0  ...            64.527580             25.0   \n",
       "1            4.0  ...            19.447869             96.0   \n",
       "2            2.0  ...             1.509628             58.0   \n",
       "3            0.0  ...             0.529989              4.0   \n",
       "4            1.0  ...            11.319579             28.0   \n",
       "\n",
       "   ORCHARD_ACRESPTH12  BERRY_FARMS12  BERRY_ACRESPTH12  DIRSALES12  \\\n",
       "0            7.285908            5.0          0.090621       308.0   \n",
       "1           17.652682           39.0          0.488456       648.0   \n",
       "2           29.419345            5.0          1.546449        13.0   \n",
       "3            0.574154            2.0          3.414746        20.0   \n",
       "4            3.046248           25.0          0.657713       495.0   \n",
       "\n",
       "   GHVEG_SQFTPTH12  CSA12  AGRITRSM_OPS12  GHVEG_FARMS12  \n",
       "0         0.000000    3.0            10.0            0.0  \n",
       "1       326.477447    7.0            16.0            4.0  \n",
       "2         0.000000    0.0            32.0            0.0  \n",
       "3       267.153587    3.0             6.0            2.0  \n",
       "4         0.000000    4.0             8.0            0.0  \n",
       "\n",
       "[5 rows x 49 columns]"
      ]
     },
     "execution_count": 26,
     "metadata": {},
     "output_type": "execute_result"
    }
   ],
   "source": [
    "local.head()"
   ]
  },
  {
   "cell_type": "markdown",
   "metadata": {},
   "source": [
    "#### 3.2. K-means clustering"
   ]
  },
  {
   "cell_type": "code",
   "execution_count": 27,
   "metadata": {},
   "outputs": [
    {
     "data": {
      "image/png": "[encoded data removed]",
      "text/plain": [
       "<Figure size 432x288 with 1 Axes>"
      ]
     },
     "metadata": {
      "needs_background": "light"
     },
     "output_type": "display_data"
    }
   ],
   "source": [
    "from sklearn.cluster import KMeans\n",
    "from sklearn.preprocessing import StandardScaler\n",
    "from sklearn.pipeline import make_pipeline\n",
    "scaler=StandardScaler()\n",
    "samples = local.drop(['FIPS','State','County'],axis=1) # 'LOCAL' category\n",
    "scaled_samples = scaler.fit_transform(samples) \n",
    "\n",
    "# Create 'Elbow' plot\n",
    "ks = range(1, 20) \n",
    "inertias = []\n",
    "for k in ks:\n",
    "     model = KMeans(n_clusters=k)\n",
    "     model.fit(scaled_samples)\n",
    "     inertias.append(model.inertia_)\n",
    "plt.plot(ks, inertias, '-o')\n",
    "plt.xlabel('number of clusters, k')\n",
    "plt.ylabel('inertia')\n",
    "plt.xticks(ks)\n",
    "plt.show()\n"
   ]
  },
  {
   "cell_type": "code",
   "execution_count": 18,
   "metadata": {},
   "outputs": [],
   "source": [
    "# Use 3 clusters\n",
    "model = KMeans(n_clusters=3,random_state=0)\n",
    "\n",
    "model.fit(scaled_samples) \n",
    "\n",
    "labels = model.labels_\n",
    "\n",
    "centroids = model.cluster_centers_ # For plotting"
   ]
  },
  {
   "cell_type": "code",
   "execution_count": null,
   "metadata": {},
   "outputs": [],
   "source": [
    "# TBD\n"
   ]
  },
  {
   "cell_type": "markdown",
   "metadata": {},
   "source": [
    "### Q: how to interpret PCA and K-means results ? How about use NMF , hierarchical clustering? "
   ]
  },
  {
   "cell_type": "code",
   "execution_count": null,
   "metadata": {},
   "outputs": [],
   "source": []
  },
  {
   "cell_type": "code",
   "execution_count": null,
   "metadata": {},
   "outputs": [],
   "source": []
  },
  {
   "cell_type": "code",
   "execution_count": null,
   "metadata": {},
   "outputs": [],
   "source": []
  },
  {
   "cell_type": "code",
   "execution_count": null,
   "metadata": {},
   "outputs": [],
   "source": []
  },
  {
   "cell_type": "code",
   "execution_count": null,
   "metadata": {},
   "outputs": [],
   "source": []
  }
 ],
 "metadata": {
  "kernelspec": {
   "display_name": "Python 3",
   "language": "python",
   "name": "python3"
  },
  "language_info": {
   "codemirror_mode": {
    "name": "ipython",
    "version": 3
   },
   "file_extension": ".py",
   "mimetype": "text/x-python",
   "name": "python",
   "nbconvert_exporter": "python",
   "pygments_lexer": "ipython3",
   "version": "3.6.7"
  }
 },
 "nbformat": 4,
 "nbformat_minor": 2
}
